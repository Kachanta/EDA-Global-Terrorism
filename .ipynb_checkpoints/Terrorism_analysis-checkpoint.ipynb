{
 "cells": [
  {
   "cell_type": "markdown",
   "id": "8402562b",
   "metadata": {},
   "source": [
    "# Exploratory Data Analysis (EDA) of Global Terrorism Data\n",
    "### The spark foundation Intership project\n",
    "\n",
    "- Data Inspection\n",
    "- Inspecting Features and Identifying the most relevant for exploration\n",
    "- all other Processes are detailed on the go "
   ]
  },
  {
   "cell_type": "markdown",
   "id": "752e4bd2-7e4e-44ce-9697-e1dd3f79c4e1",
   "metadata": {},
   "source": [
    "## Importing packages  "
   ]
  },
  {
   "cell_type": "code",
   "execution_count": 2,
   "id": "fdc9b9cd",
   "metadata": {},
   "outputs": [],
   "source": [
    "# importing relevant packages\n",
    "import pandas as pd\n",
    "import numpy as np \n",
    "import seaborn as sns\n",
    "import matplotlib.pyplot as plt\n",
    "sns.set()"
   ]
  },
  {
   "cell_type": "markdown",
   "id": "a1299d4e-404b-4885-9abe-f2178824fdb7",
   "metadata": {},
   "source": [
    "## Import the Dataset "
   ]
  },
  {
   "cell_type": "code",
   "execution_count": 3,
   "id": "e614cc37",
   "metadata": {},
   "outputs": [
    {
     "name": "stderr",
     "output_type": "stream",
     "text": [
      "C:\\Users\\user\\anaconda3\\lib\\site-packages\\IPython\\core\\interactiveshell.py:3444: DtypeWarning: Columns (4,6,31,33,61,62,63,76,79,90,92,94,96,114,115,121) have mixed types.Specify dtype option on import or set low_memory=False.\n",
      "  exec(code_obj, self.user_global_ns, self.user_ns)\n"
     ]
    },
    {
     "data": {
      "text/html": [
       "<div>\n",
       "<style scoped>\n",
       "    .dataframe tbody tr th:only-of-type {\n",
       "        vertical-align: middle;\n",
       "    }\n",
       "\n",
       "    .dataframe tbody tr th {\n",
       "        vertical-align: top;\n",
       "    }\n",
       "\n",
       "    .dataframe thead th {\n",
       "        text-align: right;\n",
       "    }\n",
       "</style>\n",
       "<table border=\"1\" class=\"dataframe\">\n",
       "  <thead>\n",
       "    <tr style=\"text-align: right;\">\n",
       "      <th></th>\n",
       "      <th>eventid</th>\n",
       "      <th>iyear</th>\n",
       "      <th>imonth</th>\n",
       "      <th>iday</th>\n",
       "      <th>approxdate</th>\n",
       "      <th>extended</th>\n",
       "      <th>resolution</th>\n",
       "      <th>country</th>\n",
       "      <th>country_txt</th>\n",
       "      <th>region</th>\n",
       "      <th>...</th>\n",
       "      <th>addnotes</th>\n",
       "      <th>scite1</th>\n",
       "      <th>scite2</th>\n",
       "      <th>scite3</th>\n",
       "      <th>dbsource</th>\n",
       "      <th>INT_LOG</th>\n",
       "      <th>INT_IDEO</th>\n",
       "      <th>INT_MISC</th>\n",
       "      <th>INT_ANY</th>\n",
       "      <th>related</th>\n",
       "    </tr>\n",
       "  </thead>\n",
       "  <tbody>\n",
       "    <tr>\n",
       "      <th>0</th>\n",
       "      <td>197000000001</td>\n",
       "      <td>1970</td>\n",
       "      <td>7</td>\n",
       "      <td>2</td>\n",
       "      <td>NaN</td>\n",
       "      <td>0</td>\n",
       "      <td>NaN</td>\n",
       "      <td>58</td>\n",
       "      <td>Dominican Republic</td>\n",
       "      <td>2</td>\n",
       "      <td>...</td>\n",
       "      <td>NaN</td>\n",
       "      <td>NaN</td>\n",
       "      <td>NaN</td>\n",
       "      <td>NaN</td>\n",
       "      <td>PGIS</td>\n",
       "      <td>0</td>\n",
       "      <td>0</td>\n",
       "      <td>0</td>\n",
       "      <td>0</td>\n",
       "      <td>NaN</td>\n",
       "    </tr>\n",
       "    <tr>\n",
       "      <th>1</th>\n",
       "      <td>197000000002</td>\n",
       "      <td>1970</td>\n",
       "      <td>0</td>\n",
       "      <td>0</td>\n",
       "      <td>NaN</td>\n",
       "      <td>0</td>\n",
       "      <td>NaN</td>\n",
       "      <td>130</td>\n",
       "      <td>Mexico</td>\n",
       "      <td>1</td>\n",
       "      <td>...</td>\n",
       "      <td>NaN</td>\n",
       "      <td>NaN</td>\n",
       "      <td>NaN</td>\n",
       "      <td>NaN</td>\n",
       "      <td>PGIS</td>\n",
       "      <td>0</td>\n",
       "      <td>1</td>\n",
       "      <td>1</td>\n",
       "      <td>1</td>\n",
       "      <td>NaN</td>\n",
       "    </tr>\n",
       "    <tr>\n",
       "      <th>2</th>\n",
       "      <td>197001000001</td>\n",
       "      <td>1970</td>\n",
       "      <td>1</td>\n",
       "      <td>0</td>\n",
       "      <td>NaN</td>\n",
       "      <td>0</td>\n",
       "      <td>NaN</td>\n",
       "      <td>160</td>\n",
       "      <td>Philippines</td>\n",
       "      <td>5</td>\n",
       "      <td>...</td>\n",
       "      <td>NaN</td>\n",
       "      <td>NaN</td>\n",
       "      <td>NaN</td>\n",
       "      <td>NaN</td>\n",
       "      <td>PGIS</td>\n",
       "      <td>-9</td>\n",
       "      <td>-9</td>\n",
       "      <td>1</td>\n",
       "      <td>1</td>\n",
       "      <td>NaN</td>\n",
       "    </tr>\n",
       "    <tr>\n",
       "      <th>3</th>\n",
       "      <td>197001000002</td>\n",
       "      <td>1970</td>\n",
       "      <td>1</td>\n",
       "      <td>0</td>\n",
       "      <td>NaN</td>\n",
       "      <td>0</td>\n",
       "      <td>NaN</td>\n",
       "      <td>78</td>\n",
       "      <td>Greece</td>\n",
       "      <td>8</td>\n",
       "      <td>...</td>\n",
       "      <td>NaN</td>\n",
       "      <td>NaN</td>\n",
       "      <td>NaN</td>\n",
       "      <td>NaN</td>\n",
       "      <td>PGIS</td>\n",
       "      <td>-9</td>\n",
       "      <td>-9</td>\n",
       "      <td>1</td>\n",
       "      <td>1</td>\n",
       "      <td>NaN</td>\n",
       "    </tr>\n",
       "    <tr>\n",
       "      <th>4</th>\n",
       "      <td>197001000003</td>\n",
       "      <td>1970</td>\n",
       "      <td>1</td>\n",
       "      <td>0</td>\n",
       "      <td>NaN</td>\n",
       "      <td>0</td>\n",
       "      <td>NaN</td>\n",
       "      <td>101</td>\n",
       "      <td>Japan</td>\n",
       "      <td>4</td>\n",
       "      <td>...</td>\n",
       "      <td>NaN</td>\n",
       "      <td>NaN</td>\n",
       "      <td>NaN</td>\n",
       "      <td>NaN</td>\n",
       "      <td>PGIS</td>\n",
       "      <td>-9</td>\n",
       "      <td>-9</td>\n",
       "      <td>1</td>\n",
       "      <td>1</td>\n",
       "      <td>NaN</td>\n",
       "    </tr>\n",
       "  </tbody>\n",
       "</table>\n",
       "<p>5 rows × 135 columns</p>\n",
       "</div>"
      ],
      "text/plain": [
       "        eventid  iyear  imonth  iday approxdate  extended resolution  country  \\\n",
       "0  197000000001   1970       7     2        NaN         0        NaN       58   \n",
       "1  197000000002   1970       0     0        NaN         0        NaN      130   \n",
       "2  197001000001   1970       1     0        NaN         0        NaN      160   \n",
       "3  197001000002   1970       1     0        NaN         0        NaN       78   \n",
       "4  197001000003   1970       1     0        NaN         0        NaN      101   \n",
       "\n",
       "          country_txt  region  ... addnotes scite1 scite2  scite3  dbsource  \\\n",
       "0  Dominican Republic       2  ...      NaN    NaN    NaN     NaN      PGIS   \n",
       "1              Mexico       1  ...      NaN    NaN    NaN     NaN      PGIS   \n",
       "2         Philippines       5  ...      NaN    NaN    NaN     NaN      PGIS   \n",
       "3              Greece       8  ...      NaN    NaN    NaN     NaN      PGIS   \n",
       "4               Japan       4  ...      NaN    NaN    NaN     NaN      PGIS   \n",
       "\n",
       "   INT_LOG  INT_IDEO INT_MISC INT_ANY  related  \n",
       "0        0         0        0       0      NaN  \n",
       "1        0         1        1       1      NaN  \n",
       "2       -9        -9        1       1      NaN  \n",
       "3       -9        -9        1       1      NaN  \n",
       "4       -9        -9        1       1      NaN  \n",
       "\n",
       "[5 rows x 135 columns]"
      ]
     },
     "execution_count": 3,
     "metadata": {},
     "output_type": "execute_result"
    }
   ],
   "source": [
    "# Importing the dataset for analysis \n",
    "raw_data = pd.read_csv(\"globalterrorismdb_0718dist.csv\", encoding = \"latin1\")\n",
    "raw_data.head()\n",
    " # the dataset is encoded beyond the default uts-8 so we use any of the following: 'latin1', 'ISO-8859-1', or 'cp1252'."
   ]
  },
  {
   "cell_type": "markdown",
   "id": "0a8c0161-8e32-438f-9c7c-1d486319f8b7",
   "metadata": {},
   "source": [
    "## Data Inspection \n",
    "- understanding the structure of the data, \n",
    "- checking for missing values and handling them \n",
    "- examining the datatypes and handling cardinality issue "
   ]
  },
  {
   "cell_type": "code",
   "execution_count": 4,
   "id": "5b48185f",
   "metadata": {},
   "outputs": [
    {
     "data": {
      "text/plain": [
       "(181691, 135)"
      ]
     },
     "execution_count": 4,
     "metadata": {},
     "output_type": "execute_result"
    }
   ],
   "source": [
    "data = raw_data.copy()\n",
    "data.shape"
   ]
  },
  {
   "cell_type": "code",
   "execution_count": 5,
   "id": "8fc32bde",
   "metadata": {},
   "outputs": [
    {
     "name": "stdout",
     "output_type": "stream",
     "text": [
      "<class 'pandas.core.frame.DataFrame'>\n",
      "RangeIndex: 181691 entries, 0 to 181690\n",
      "Columns: 135 entries, eventid to related\n",
      "dtypes: float64(55), int64(22), object(58)\n",
      "memory usage: 187.1+ MB\n"
     ]
    }
   ],
   "source": [
    "data.info()"
   ]
  },
  {
   "cell_type": "code",
   "execution_count": 6,
   "id": "e3f1522f",
   "metadata": {},
   "outputs": [
    {
     "data": {
      "text/html": [
       "<div>\n",
       "<style scoped>\n",
       "    .dataframe tbody tr th:only-of-type {\n",
       "        vertical-align: middle;\n",
       "    }\n",
       "\n",
       "    .dataframe tbody tr th {\n",
       "        vertical-align: top;\n",
       "    }\n",
       "\n",
       "    .dataframe thead th {\n",
       "        text-align: right;\n",
       "    }\n",
       "</style>\n",
       "<table border=\"1\" class=\"dataframe\">\n",
       "  <thead>\n",
       "    <tr style=\"text-align: right;\">\n",
       "      <th></th>\n",
       "      <th>eventid</th>\n",
       "      <th>iyear</th>\n",
       "      <th>imonth</th>\n",
       "      <th>iday</th>\n",
       "      <th>approxdate</th>\n",
       "      <th>extended</th>\n",
       "      <th>resolution</th>\n",
       "      <th>country</th>\n",
       "      <th>country_txt</th>\n",
       "      <th>region</th>\n",
       "      <th>...</th>\n",
       "      <th>addnotes</th>\n",
       "      <th>scite1</th>\n",
       "      <th>scite2</th>\n",
       "      <th>scite3</th>\n",
       "      <th>dbsource</th>\n",
       "      <th>INT_LOG</th>\n",
       "      <th>INT_IDEO</th>\n",
       "      <th>INT_MISC</th>\n",
       "      <th>INT_ANY</th>\n",
       "      <th>related</th>\n",
       "    </tr>\n",
       "  </thead>\n",
       "  <tbody>\n",
       "    <tr>\n",
       "      <th>count</th>\n",
       "      <td>1.816910e+05</td>\n",
       "      <td>181691.000000</td>\n",
       "      <td>181691.000000</td>\n",
       "      <td>181691.000000</td>\n",
       "      <td>9239</td>\n",
       "      <td>181691.000000</td>\n",
       "      <td>2220</td>\n",
       "      <td>181691.000000</td>\n",
       "      <td>181691</td>\n",
       "      <td>181691.000000</td>\n",
       "      <td>...</td>\n",
       "      <td>28289</td>\n",
       "      <td>115500</td>\n",
       "      <td>76933</td>\n",
       "      <td>43516</td>\n",
       "      <td>181691</td>\n",
       "      <td>181691.000000</td>\n",
       "      <td>181691.000000</td>\n",
       "      <td>181691.000000</td>\n",
       "      <td>181691.000000</td>\n",
       "      <td>25038</td>\n",
       "    </tr>\n",
       "    <tr>\n",
       "      <th>unique</th>\n",
       "      <td>NaN</td>\n",
       "      <td>NaN</td>\n",
       "      <td>NaN</td>\n",
       "      <td>NaN</td>\n",
       "      <td>2244</td>\n",
       "      <td>NaN</td>\n",
       "      <td>1859</td>\n",
       "      <td>NaN</td>\n",
       "      <td>205</td>\n",
       "      <td>NaN</td>\n",
       "      <td>...</td>\n",
       "      <td>15429</td>\n",
       "      <td>83988</td>\n",
       "      <td>62263</td>\n",
       "      <td>36090</td>\n",
       "      <td>26</td>\n",
       "      <td>NaN</td>\n",
       "      <td>NaN</td>\n",
       "      <td>NaN</td>\n",
       "      <td>NaN</td>\n",
       "      <td>14306</td>\n",
       "    </tr>\n",
       "    <tr>\n",
       "      <th>top</th>\n",
       "      <td>NaN</td>\n",
       "      <td>NaN</td>\n",
       "      <td>NaN</td>\n",
       "      <td>NaN</td>\n",
       "      <td>September 18-24, 2016</td>\n",
       "      <td>NaN</td>\n",
       "      <td>8/4/1998</td>\n",
       "      <td>NaN</td>\n",
       "      <td>Iraq</td>\n",
       "      <td>NaN</td>\n",
       "      <td>...</td>\n",
       "      <td>Casualty numbers for this incident conflict ac...</td>\n",
       "      <td>Committee on Government Operations United Stat...</td>\n",
       "      <td>Christopher Hewitt, \"Political Violence and Te...</td>\n",
       "      <td>Christopher Hewitt, \"Political Violence and Te...</td>\n",
       "      <td>START Primary Collection</td>\n",
       "      <td>NaN</td>\n",
       "      <td>NaN</td>\n",
       "      <td>NaN</td>\n",
       "      <td>NaN</td>\n",
       "      <td>201612010023, 201612010024, 201612010025, 2016...</td>\n",
       "    </tr>\n",
       "    <tr>\n",
       "      <th>freq</th>\n",
       "      <td>NaN</td>\n",
       "      <td>NaN</td>\n",
       "      <td>NaN</td>\n",
       "      <td>NaN</td>\n",
       "      <td>101</td>\n",
       "      <td>NaN</td>\n",
       "      <td>18</td>\n",
       "      <td>NaN</td>\n",
       "      <td>24636</td>\n",
       "      <td>NaN</td>\n",
       "      <td>...</td>\n",
       "      <td>1607</td>\n",
       "      <td>205</td>\n",
       "      <td>134</td>\n",
       "      <td>139</td>\n",
       "      <td>78002</td>\n",
       "      <td>NaN</td>\n",
       "      <td>NaN</td>\n",
       "      <td>NaN</td>\n",
       "      <td>NaN</td>\n",
       "      <td>80</td>\n",
       "    </tr>\n",
       "    <tr>\n",
       "      <th>mean</th>\n",
       "      <td>2.002705e+11</td>\n",
       "      <td>2002.638997</td>\n",
       "      <td>6.467277</td>\n",
       "      <td>15.505644</td>\n",
       "      <td>NaN</td>\n",
       "      <td>0.045346</td>\n",
       "      <td>NaN</td>\n",
       "      <td>131.968501</td>\n",
       "      <td>NaN</td>\n",
       "      <td>7.160938</td>\n",
       "      <td>...</td>\n",
       "      <td>NaN</td>\n",
       "      <td>NaN</td>\n",
       "      <td>NaN</td>\n",
       "      <td>NaN</td>\n",
       "      <td>NaN</td>\n",
       "      <td>-4.543731</td>\n",
       "      <td>-4.464398</td>\n",
       "      <td>0.090010</td>\n",
       "      <td>-3.945952</td>\n",
       "      <td>NaN</td>\n",
       "    </tr>\n",
       "    <tr>\n",
       "      <th>std</th>\n",
       "      <td>1.325957e+09</td>\n",
       "      <td>13.259430</td>\n",
       "      <td>3.388303</td>\n",
       "      <td>8.814045</td>\n",
       "      <td>NaN</td>\n",
       "      <td>0.208063</td>\n",
       "      <td>NaN</td>\n",
       "      <td>112.414535</td>\n",
       "      <td>NaN</td>\n",
       "      <td>2.933408</td>\n",
       "      <td>...</td>\n",
       "      <td>NaN</td>\n",
       "      <td>NaN</td>\n",
       "      <td>NaN</td>\n",
       "      <td>NaN</td>\n",
       "      <td>NaN</td>\n",
       "      <td>4.543547</td>\n",
       "      <td>4.637152</td>\n",
       "      <td>0.568457</td>\n",
       "      <td>4.691325</td>\n",
       "      <td>NaN</td>\n",
       "    </tr>\n",
       "    <tr>\n",
       "      <th>min</th>\n",
       "      <td>1.970000e+11</td>\n",
       "      <td>1970.000000</td>\n",
       "      <td>0.000000</td>\n",
       "      <td>0.000000</td>\n",
       "      <td>NaN</td>\n",
       "      <td>0.000000</td>\n",
       "      <td>NaN</td>\n",
       "      <td>4.000000</td>\n",
       "      <td>NaN</td>\n",
       "      <td>1.000000</td>\n",
       "      <td>...</td>\n",
       "      <td>NaN</td>\n",
       "      <td>NaN</td>\n",
       "      <td>NaN</td>\n",
       "      <td>NaN</td>\n",
       "      <td>NaN</td>\n",
       "      <td>-9.000000</td>\n",
       "      <td>-9.000000</td>\n",
       "      <td>-9.000000</td>\n",
       "      <td>-9.000000</td>\n",
       "      <td>NaN</td>\n",
       "    </tr>\n",
       "    <tr>\n",
       "      <th>25%</th>\n",
       "      <td>1.991021e+11</td>\n",
       "      <td>1991.000000</td>\n",
       "      <td>4.000000</td>\n",
       "      <td>8.000000</td>\n",
       "      <td>NaN</td>\n",
       "      <td>0.000000</td>\n",
       "      <td>NaN</td>\n",
       "      <td>78.000000</td>\n",
       "      <td>NaN</td>\n",
       "      <td>5.000000</td>\n",
       "      <td>...</td>\n",
       "      <td>NaN</td>\n",
       "      <td>NaN</td>\n",
       "      <td>NaN</td>\n",
       "      <td>NaN</td>\n",
       "      <td>NaN</td>\n",
       "      <td>-9.000000</td>\n",
       "      <td>-9.000000</td>\n",
       "      <td>0.000000</td>\n",
       "      <td>-9.000000</td>\n",
       "      <td>NaN</td>\n",
       "    </tr>\n",
       "    <tr>\n",
       "      <th>50%</th>\n",
       "      <td>2.009022e+11</td>\n",
       "      <td>2009.000000</td>\n",
       "      <td>6.000000</td>\n",
       "      <td>15.000000</td>\n",
       "      <td>NaN</td>\n",
       "      <td>0.000000</td>\n",
       "      <td>NaN</td>\n",
       "      <td>98.000000</td>\n",
       "      <td>NaN</td>\n",
       "      <td>6.000000</td>\n",
       "      <td>...</td>\n",
       "      <td>NaN</td>\n",
       "      <td>NaN</td>\n",
       "      <td>NaN</td>\n",
       "      <td>NaN</td>\n",
       "      <td>NaN</td>\n",
       "      <td>-9.000000</td>\n",
       "      <td>-9.000000</td>\n",
       "      <td>0.000000</td>\n",
       "      <td>0.000000</td>\n",
       "      <td>NaN</td>\n",
       "    </tr>\n",
       "    <tr>\n",
       "      <th>75%</th>\n",
       "      <td>2.014081e+11</td>\n",
       "      <td>2014.000000</td>\n",
       "      <td>9.000000</td>\n",
       "      <td>23.000000</td>\n",
       "      <td>NaN</td>\n",
       "      <td>0.000000</td>\n",
       "      <td>NaN</td>\n",
       "      <td>160.000000</td>\n",
       "      <td>NaN</td>\n",
       "      <td>10.000000</td>\n",
       "      <td>...</td>\n",
       "      <td>NaN</td>\n",
       "      <td>NaN</td>\n",
       "      <td>NaN</td>\n",
       "      <td>NaN</td>\n",
       "      <td>NaN</td>\n",
       "      <td>0.000000</td>\n",
       "      <td>0.000000</td>\n",
       "      <td>0.000000</td>\n",
       "      <td>0.000000</td>\n",
       "      <td>NaN</td>\n",
       "    </tr>\n",
       "    <tr>\n",
       "      <th>max</th>\n",
       "      <td>2.017123e+11</td>\n",
       "      <td>2017.000000</td>\n",
       "      <td>12.000000</td>\n",
       "      <td>31.000000</td>\n",
       "      <td>NaN</td>\n",
       "      <td>1.000000</td>\n",
       "      <td>NaN</td>\n",
       "      <td>1004.000000</td>\n",
       "      <td>NaN</td>\n",
       "      <td>12.000000</td>\n",
       "      <td>...</td>\n",
       "      <td>NaN</td>\n",
       "      <td>NaN</td>\n",
       "      <td>NaN</td>\n",
       "      <td>NaN</td>\n",
       "      <td>NaN</td>\n",
       "      <td>1.000000</td>\n",
       "      <td>1.000000</td>\n",
       "      <td>1.000000</td>\n",
       "      <td>1.000000</td>\n",
       "      <td>NaN</td>\n",
       "    </tr>\n",
       "  </tbody>\n",
       "</table>\n",
       "<p>11 rows × 135 columns</p>\n",
       "</div>"
      ],
      "text/plain": [
       "             eventid          iyear         imonth           iday  \\\n",
       "count   1.816910e+05  181691.000000  181691.000000  181691.000000   \n",
       "unique           NaN            NaN            NaN            NaN   \n",
       "top              NaN            NaN            NaN            NaN   \n",
       "freq             NaN            NaN            NaN            NaN   \n",
       "mean    2.002705e+11    2002.638997       6.467277      15.505644   \n",
       "std     1.325957e+09      13.259430       3.388303       8.814045   \n",
       "min     1.970000e+11    1970.000000       0.000000       0.000000   \n",
       "25%     1.991021e+11    1991.000000       4.000000       8.000000   \n",
       "50%     2.009022e+11    2009.000000       6.000000      15.000000   \n",
       "75%     2.014081e+11    2014.000000       9.000000      23.000000   \n",
       "max     2.017123e+11    2017.000000      12.000000      31.000000   \n",
       "\n",
       "                   approxdate       extended resolution        country  \\\n",
       "count                    9239  181691.000000       2220  181691.000000   \n",
       "unique                   2244            NaN       1859            NaN   \n",
       "top     September 18-24, 2016            NaN   8/4/1998            NaN   \n",
       "freq                      101            NaN         18            NaN   \n",
       "mean                      NaN       0.045346        NaN     131.968501   \n",
       "std                       NaN       0.208063        NaN     112.414535   \n",
       "min                       NaN       0.000000        NaN       4.000000   \n",
       "25%                       NaN       0.000000        NaN      78.000000   \n",
       "50%                       NaN       0.000000        NaN      98.000000   \n",
       "75%                       NaN       0.000000        NaN     160.000000   \n",
       "max                       NaN       1.000000        NaN    1004.000000   \n",
       "\n",
       "       country_txt         region  ...  \\\n",
       "count       181691  181691.000000  ...   \n",
       "unique         205            NaN  ...   \n",
       "top           Iraq            NaN  ...   \n",
       "freq         24636            NaN  ...   \n",
       "mean           NaN       7.160938  ...   \n",
       "std            NaN       2.933408  ...   \n",
       "min            NaN       1.000000  ...   \n",
       "25%            NaN       5.000000  ...   \n",
       "50%            NaN       6.000000  ...   \n",
       "75%            NaN      10.000000  ...   \n",
       "max            NaN      12.000000  ...   \n",
       "\n",
       "                                                 addnotes  \\\n",
       "count                                               28289   \n",
       "unique                                              15429   \n",
       "top     Casualty numbers for this incident conflict ac...   \n",
       "freq                                                 1607   \n",
       "mean                                                  NaN   \n",
       "std                                                   NaN   \n",
       "min                                                   NaN   \n",
       "25%                                                   NaN   \n",
       "50%                                                   NaN   \n",
       "75%                                                   NaN   \n",
       "max                                                   NaN   \n",
       "\n",
       "                                                   scite1  \\\n",
       "count                                              115500   \n",
       "unique                                              83988   \n",
       "top     Committee on Government Operations United Stat...   \n",
       "freq                                                  205   \n",
       "mean                                                  NaN   \n",
       "std                                                   NaN   \n",
       "min                                                   NaN   \n",
       "25%                                                   NaN   \n",
       "50%                                                   NaN   \n",
       "75%                                                   NaN   \n",
       "max                                                   NaN   \n",
       "\n",
       "                                                   scite2  \\\n",
       "count                                               76933   \n",
       "unique                                              62263   \n",
       "top     Christopher Hewitt, \"Political Violence and Te...   \n",
       "freq                                                  134   \n",
       "mean                                                  NaN   \n",
       "std                                                   NaN   \n",
       "min                                                   NaN   \n",
       "25%                                                   NaN   \n",
       "50%                                                   NaN   \n",
       "75%                                                   NaN   \n",
       "max                                                   NaN   \n",
       "\n",
       "                                                   scite3  \\\n",
       "count                                               43516   \n",
       "unique                                              36090   \n",
       "top     Christopher Hewitt, \"Political Violence and Te...   \n",
       "freq                                                  139   \n",
       "mean                                                  NaN   \n",
       "std                                                   NaN   \n",
       "min                                                   NaN   \n",
       "25%                                                   NaN   \n",
       "50%                                                   NaN   \n",
       "75%                                                   NaN   \n",
       "max                                                   NaN   \n",
       "\n",
       "                        dbsource        INT_LOG       INT_IDEO       INT_MISC  \\\n",
       "count                     181691  181691.000000  181691.000000  181691.000000   \n",
       "unique                        26            NaN            NaN            NaN   \n",
       "top     START Primary Collection            NaN            NaN            NaN   \n",
       "freq                       78002            NaN            NaN            NaN   \n",
       "mean                         NaN      -4.543731      -4.464398       0.090010   \n",
       "std                          NaN       4.543547       4.637152       0.568457   \n",
       "min                          NaN      -9.000000      -9.000000      -9.000000   \n",
       "25%                          NaN      -9.000000      -9.000000       0.000000   \n",
       "50%                          NaN      -9.000000      -9.000000       0.000000   \n",
       "75%                          NaN       0.000000       0.000000       0.000000   \n",
       "max                          NaN       1.000000       1.000000       1.000000   \n",
       "\n",
       "              INT_ANY                                            related  \n",
       "count   181691.000000                                              25038  \n",
       "unique            NaN                                              14306  \n",
       "top               NaN  201612010023, 201612010024, 201612010025, 2016...  \n",
       "freq              NaN                                                 80  \n",
       "mean        -3.945952                                                NaN  \n",
       "std          4.691325                                                NaN  \n",
       "min         -9.000000                                                NaN  \n",
       "25%         -9.000000                                                NaN  \n",
       "50%          0.000000                                                NaN  \n",
       "75%          0.000000                                                NaN  \n",
       "max          1.000000                                                NaN  \n",
       "\n",
       "[11 rows x 135 columns]"
      ]
     },
     "execution_count": 6,
     "metadata": {},
     "output_type": "execute_result"
    }
   ],
   "source": [
    "data.describe(include='all')"
   ]
  },
  {
   "cell_type": "code",
   "execution_count": 10,
   "id": "48f8ea5c-7c8c-496e-8d75-9fc2f009efa6",
   "metadata": {},
   "outputs": [
    {
     "data": {
      "text/plain": [
       "gsubname3           181671\n",
       "weapsubtype4_txt    181621\n",
       "weapsubtype4        181621\n",
       "weaptype4           181618\n",
       "weaptype4_txt       181618\n",
       "claimmode3          181558\n",
       "claimmode3_txt      181558\n",
       "gsubname2           181531\n",
       "claim3              181373\n",
       "guncertain3         181371\n",
       "gname3              181367\n",
       "divert              181367\n",
       "attacktype3         181263\n",
       "attacktype3_txt     181263\n",
       "ransomnote          181177\n",
       "ransompaidus        181139\n",
       "ransomamtus         181128\n",
       "claimmode2          181075\n",
       "claimmode2_txt      181075\n",
       "ransompaid          180917\n",
       "dtype: int64"
      ]
     },
     "execution_count": 10,
     "metadata": {},
     "output_type": "execute_result"
    }
   ],
   "source": [
    "#checking for Missing values \n",
    "null_values = data.isnull().sum().sort_values(ascending=False)\n",
    "null_values.head(20)"
   ]
  },
  {
   "cell_type": "code",
   "execution_count": 13,
   "id": "a6348eb6-309d-4bf8-81c0-141751fa9124",
   "metadata": {},
   "outputs": [
    {
     "data": {
      "text/plain": [
       "(181691, 135)"
      ]
     },
     "execution_count": 13,
     "metadata": {},
     "output_type": "execute_result"
    }
   ],
   "source": [
    "data.shape"
   ]
  },
  {
   "cell_type": "code",
   "execution_count": 16,
   "id": "9a6c0a23-1eaa-4b46-ad54-86adfbf58626",
   "metadata": {},
   "outputs": [
    {
     "data": {
      "text/plain": [
       "90845.5"
      ]
     },
     "execution_count": 16,
     "metadata": {},
     "output_type": "execute_result"
    }
   ],
   "source": [
    "data.shape[0]*.5"
   ]
  },
  {
   "cell_type": "code",
   "execution_count": null,
   "id": "e6fee29f-0f67-4c5d-a9c6-a0f471c24ae6",
   "metadata": {},
   "outputs": [
    {
     "data": {
      "text/plain": [
       "(77,)"
      ]
     },
     "execution_count": 484,
     "metadata": {},
     "output_type": "execute_result"
    }
   ],
   "source": [
    "# checking for features with morethan 50% missing data\n",
    "null_values[null_values>(data.shape[0]*0.5)].shape"
   ]
  },
  {
   "cell_type": "markdown",
   "id": "6be2b105-ed07-401d-8b37-3d7ec8fbbb3c",
   "metadata": {},
   "source": [
    "**Checking for High Cardinality**\n",
    "- cardinality refers to the number of unique values in a column or feature of a dataset. It is a measure of the diversity of values in a dataset and can be used to identify categorical variables.\n",
    "- High cardinality features can lead to overfitting and slow model training times, while low cardinality features can lead to underfitting and poor model performance\n"
   ]
  },
  {
   "cell_type": "code",
   "execution_count": 485,
   "id": "6b4b18e7-f1ff-46cb-8ab4-4c9879080784",
   "metadata": {},
   "outputs": [
    {
     "data": {
      "text/plain": [
       "eventid      181691\n",
       "summary      112492\n",
       "target1       86006\n",
       "scite1        83988\n",
       "scite2        62263\n",
       "latitude      48322\n",
       "longitude     48039\n",
       "location      44109\n",
       "city          36674\n",
       "scite3        36090\n",
       "dtype: int64"
      ]
     },
     "execution_count": 485,
     "metadata": {},
     "output_type": "execute_result"
    }
   ],
   "source": [
    "#checking for high cardinality data and inspecting them   \n",
    "data.nunique().sort_values(ascending=False).head(10)"
   ]
  },
  {
   "cell_type": "markdown",
   "id": "3d208655-8ce3-48a5-8830-add1142c5f3c",
   "metadata": {},
   "source": [
    "Here, we further investigate the high cardinality datasset based on their data type, to see if there is any reason to used them in this analysis"
   ]
  },
  {
   "cell_type": "code",
   "execution_count": 486,
   "id": "7bb9c784-8535-4977-8890-e57c1c9fb978",
   "metadata": {},
   "outputs": [
    {
     "name": "stdout",
     "output_type": "stream",
     "text": [
      "the cardinality of INTERGER FEATURES \n",
      " eventid      181691\n",
      "country         205\n",
      "iyear            47\n",
      "iday             32\n",
      "targtype1        22\n",
      "dtype: int64 \n",
      "\n",
      " ---------------------------------------------------------------------------------------------------- \n",
      "\n",
      " cardinality of FLOAT FEATURES \n",
      " latitude     48322\n",
      "longitude    48039\n",
      "propvalue      659\n",
      "ransomamt      429\n",
      "ndays          328\n",
      "dtype: int64\n"
     ]
    }
   ],
   "source": [
    "# Dealing with high cardinality issue\n",
    "int_cardinality = data.select_dtypes(\"int\").nunique().sort_values(ascending=False)\n",
    "float_cardinality = data.select_dtypes(\"float\").nunique().sort_values(ascending=False)\n",
    "print(\n",
    "\"the cardinality of INTERGER FEATURES\",\"\\n\",\n",
    "int_cardinality.head(),\"\\n\\n\",\n",
    "    \"--\"*50,\"\\n\\n\",\n",
    "\"cardinality of FLOAT FEATURES\",\"\\n\",\n",
    "float_cardinality.head()\n",
    ")"
   ]
  },
  {
   "cell_type": "code",
   "execution_count": 487,
   "id": "aaacd420-8a93-4230-b9df-fc3dbb558a64",
   "metadata": {},
   "outputs": [
    {
     "data": {
      "text/plain": [
       "guncertain3         181371\n",
       "claim3              181373\n",
       "gsubname2           181531\n",
       "claimmode3_txt      181558\n",
       "claimmode3          181558\n",
       "weaptype4_txt       181618\n",
       "weaptype4           181618\n",
       "weapsubtype4        181621\n",
       "weapsubtype4_txt    181621\n",
       "gsubname3           181671\n",
       "dtype: int64"
      ]
     },
     "execution_count": 487,
     "metadata": {},
     "output_type": "execute_result"
    }
   ],
   "source": [
    "data.isnull().sum().sort_values().tail(10)"
   ]
  },
  {
   "cell_type": "markdown",
   "id": "88a6337f-76fb-4615-9bd9-c2826fbbc69e",
   "metadata": {},
   "source": [
    "## Features inspection and selection \n",
    "**dropping features with morethan 50% missing data:**\n",
    "we will drop this features for the following reasons:\n",
    "- Limited Information Gain: Features with a substantial amount of missing data may not contribute much useful information to the analysis. If a feature has more missing values than present values, its ability to provide meaningful insights may be limited.\n",
    "\n",
    "- Computational Efficiency: Dropping features with a high percentage of missing values can simplify the analysis and reduce the computational load.\n",
    "\n",
    "- Avoiding Bias in Imputation: Imputing missing values introduces assumptions about the distribution of the data. If a large portion of a feature's values is missing, imputing them might lead to biased or inaccurate results.\n"
   ]
  },
  {
   "cell_type": "code",
   "execution_count": 18,
   "id": "a2ab707c-6aca-4b31-8b72-3ff2e0df1d32",
   "metadata": {},
   "outputs": [],
   "source": [
    "df = data.copy()"
   ]
  },
  {
   "cell_type": "markdown",
   "id": "b591f6f6-ebe9-4dea-a913-7e7f0f291b3c",
   "metadata": {},
   "source": [
    "we will start the cleaning by dropping features with morethan 50% missing values"
   ]
  },
  {
   "cell_type": "code",
   "execution_count": 489,
   "id": "2298274f-ac3a-4c8c-a5c5-8315729295c4",
   "metadata": {},
   "outputs": [
    {
     "data": {
      "text/plain": [
       "(181691, 57)"
      ]
     },
     "execution_count": 489,
     "metadata": {},
     "output_type": "execute_result"
    }
   ],
   "source": [
    "#dropping feature with high desity of missing values\n",
    "features_with_morethan_50_percent_missing_values = null_values[null_values>(df.shape[0]*0.5)].index\n",
    "df.drop(columns=features_with_morethan_50_percent_missing_values, inplace=True)\n",
    "\n",
    "#dropping a high cardinal integer\n",
    "df.drop(columns=\"eventid\", inplace=True)\n",
    "df.shape"
   ]
  },
  {
   "cell_type": "code",
   "execution_count": 490,
   "id": "e3f8a039-a410-4f31-a90d-0833ddb7d32a",
   "metadata": {},
   "outputs": [
    {
     "data": {
      "text/plain": [
       "nperps              71115\n",
       "nperpcap            69489\n",
       "nwoundte            69143\n",
       "weapdetail          67670\n",
       "nkillter            66958\n",
       "scite1              66191\n",
       "summary             66129\n",
       "claimed             66120\n",
       "nwoundus            64702\n",
       "nkillus             64446\n",
       "corp1               42550\n",
       "weapsubtype1_txt    20768\n",
       "weapsubtype1        20768\n",
       "nwound              16311\n",
       "targsubtype1_txt    10373\n",
       "targsubtype1        10373\n",
       "nkill               10313\n",
       "longitude            4557\n",
       "latitude             4556\n",
       "natlty1_txt          1559\n",
       "natlty1              1559\n",
       "target1               636\n",
       "city                  434\n",
       "provstate             421\n",
       "guncertain1           380\n",
       "ishostkid             178\n",
       "specificity             6\n",
       "doubtterr               1\n",
       "multiple                1\n",
       "dtype: int64"
      ]
     },
     "execution_count": 490,
     "metadata": {},
     "output_type": "execute_result"
    }
   ],
   "source": [
    "#Checking for missing values\n",
    "missing_vals = df.isnull().sum().sort_values(ascending=False)\n",
    "missing_vals[missing_vals>0]"
   ]
  },
  {
   "cell_type": "markdown",
   "id": "3683c0ed-607c-4961-8a6f-10cb3fca26bb",
   "metadata": {},
   "source": [
    "### Comparing the features with higher missing values vs their cardinality \n",
    "- here We want to drop all features with large missing values and high cardinality "
   ]
  },
  {
   "cell_type": "code",
   "execution_count": 491,
   "id": "93c524f6-8cd6-4724-a3bd-5d522aa639b0",
   "metadata": {},
   "outputs": [
    {
     "name": "stdout",
     "output_type": "stream",
     "text": [
      "nperps 113\n",
      "nperpcap 50\n",
      "nwoundte 44\n",
      "weapdetail 19148\n",
      "nkillter 96\n",
      "scite1 83988\n",
      "summary 112492\n",
      "claimed 3\n",
      "nwoundus 44\n",
      "nkillus 31\n",
      "corp1 33238\n",
      "weapsubtype1_txt 30\n",
      "weapsubtype1 30\n",
      "nwound 238\n",
      "targsubtype1_txt 112\n",
      "targsubtype1 112\n",
      "nkill 205\n",
      "longitude 48039\n",
      "latitude 48322\n",
      "natlty1_txt 215\n",
      "natlty1 215\n",
      "target1 86006\n",
      "city 36674\n",
      "provstate 2855\n",
      "guncertain1 2\n",
      "ishostkid 3\n",
      "specificity 5\n",
      "doubtterr 3\n",
      "multiple 2\n",
      "weaptype1_txt 12\n",
      "INT_LOG 3\n",
      "dbsource 26\n",
      "weaptype1 12\n",
      "property 3\n",
      "INT_MISC 3\n",
      "INT_IDEO 3\n",
      "iyear 47\n",
      "individual 2\n",
      "gname 3537\n",
      "iday 32\n",
      "extended 2\n",
      "country 205\n",
      "country_txt 205\n",
      "region 12\n",
      "region_txt 12\n",
      "vicinity 3\n",
      "crit1 2\n",
      "crit2 2\n",
      "crit3 2\n",
      "success 2\n",
      "suicide 2\n",
      "attacktype1 9\n",
      "attacktype1_txt 9\n",
      "targtype1 22\n",
      "targtype1_txt 22\n",
      "imonth 13\n",
      "INT_ANY 3\n"
     ]
    }
   ],
   "source": [
    "# comparing the number of unique values with missing value\n",
    "for i in missing_vals.index:\n",
    "    print(i, df[i].nunique())"
   ]
  },
  {
   "cell_type": "markdown",
   "id": "0bf3fa4f-9b66-4636-975e-db9b0949f4fa",
   "metadata": {},
   "source": [
    "#### Checking the Missing values in features with integer and Float datatypes \n",
    "- Checking for missing values with respect to datatypes this will be very vital when resolving the missing value issue"
   ]
  },
  {
   "cell_type": "code",
   "execution_count": 492,
   "id": "15a28581-ee66-4af4-8ab0-00325650c241",
   "metadata": {},
   "outputs": [
    {
     "data": {
      "text/plain": [
       "iyear          0\n",
       "imonth         0\n",
       "iday           0\n",
       "extended       0\n",
       "country        0\n",
       "region         0\n",
       "vicinity       0\n",
       "crit1          0\n",
       "crit2          0\n",
       "crit3          0\n",
       "success        0\n",
       "suicide        0\n",
       "attacktype1    0\n",
       "targtype1      0\n",
       "individual     0\n",
       "weaptype1      0\n",
       "property       0\n",
       "INT_LOG        0\n",
       "INT_IDEO       0\n",
       "INT_MISC       0\n",
       "INT_ANY        0\n",
       "dtype: int64"
      ]
     },
     "execution_count": 492,
     "metadata": {},
     "output_type": "execute_result"
    }
   ],
   "source": [
    "# Checking missing values in integer dtype only\n",
    "df.select_dtypes(\"int\").isnull().sum()"
   ]
  },
  {
   "cell_type": "code",
   "execution_count": 493,
   "id": "f1fe45f1-6d1f-463c-b598-cde2c2731a9b",
   "metadata": {},
   "outputs": [
    {
     "data": {
      "text/plain": [
       "latitude         4556\n",
       "longitude        4557\n",
       "specificity         6\n",
       "doubtterr           1\n",
       "multiple            1\n",
       "targsubtype1    10373\n",
       "natlty1          1559\n",
       "guncertain1       380\n",
       "nperps          71115\n",
       "nperpcap        69489\n",
       "claimed         66120\n",
       "weapsubtype1    20768\n",
       "nkill           10313\n",
       "nkillus         64446\n",
       "nkillter        66958\n",
       "nwound          16311\n",
       "nwoundus        64702\n",
       "nwoundte        69143\n",
       "ishostkid         178\n",
       "dtype: int64"
      ]
     },
     "execution_count": 493,
     "metadata": {},
     "output_type": "execute_result"
    }
   ],
   "source": [
    "# Checking missing in float dtype\n",
    "df.select_dtypes(\"float\").isnull().sum()"
   ]
  },
  {
   "cell_type": "code",
   "execution_count": 494,
   "id": "dae70318-7df6-4e4f-b6a3-7497488ce22d",
   "metadata": {},
   "outputs": [],
   "source": [
    "### Filling the missing values in fileds"
   ]
  },
  {
   "cell_type": "code",
   "execution_count": 495,
   "id": "f7ef7d28-a962-4b22-8b47-fd58c3b5fe58",
   "metadata": {},
   "outputs": [],
   "source": [
    "# handling missing values features with less than 100 missing val\n",
    "mean_replacer = df[[\"specificity\",\"doubtterr\",\"multiple\"]].mean()\n",
    "df[[\"specificity\",\"doubtterr\",\"multiple\"]] = df[[\"specificity\",\"doubtterr\",\"multiple\"]].fillna(mean_replacer)"
   ]
  },
  {
   "cell_type": "code",
   "execution_count": 496,
   "id": "6b53d8e3-ceeb-4397-ba40-eb71eabbad9d",
   "metadata": {},
   "outputs": [
    {
     "data": {
      "text/plain": [
       "Index(['iyear', 'imonth', 'iday', 'extended', 'country', 'country_txt',\n",
       "       'region', 'region_txt', 'provstate', 'city', 'latitude', 'longitude',\n",
       "       'specificity', 'vicinity', 'summary', 'crit1', 'crit2', 'crit3',\n",
       "       'doubtterr', 'multiple', 'success', 'suicide', 'attacktype1',\n",
       "       'attacktype1_txt', 'targtype1', 'targtype1_txt', 'targsubtype1',\n",
       "       'targsubtype1_txt', 'corp1', 'target1', 'natlty1', 'natlty1_txt',\n",
       "       'gname', 'guncertain1', 'individual', 'nperps', 'nperpcap', 'claimed',\n",
       "       'weaptype1', 'weaptype1_txt', 'weapsubtype1', 'weapsubtype1_txt',\n",
       "       'weapdetail', 'nkill', 'nkillus', 'nkillter', 'nwound', 'nwoundus',\n",
       "       'nwoundte', 'property', 'ishostkid', 'scite1', 'dbsource', 'INT_LOG',\n",
       "       'INT_IDEO', 'INT_MISC', 'INT_ANY'],\n",
       "      dtype='object')"
      ]
     },
     "execution_count": 496,
     "metadata": {},
     "output_type": "execute_result"
    }
   ],
   "source": [
    "df.columns"
   ]
  },
  {
   "cell_type": "code",
   "execution_count": null,
   "id": "d66f17a5-f20c-49ac-9fd2-d8b0d51865b6",
   "metadata": {},
   "outputs": [],
   "source": []
  },
  {
   "cell_type": "markdown",
   "id": "c5a5d475-d52e-4a5a-b8f2-a7dc5182345c",
   "metadata": {},
   "source": [
    "### Inspecting and Cleaning dates\n",
    "For easy working with the date we want to convert it to proper format of datetime"
   ]
  },
  {
   "cell_type": "code",
   "execution_count": 497,
   "id": "affa5721-9137-44ff-aa60-3d017046da32",
   "metadata": {},
   "outputs": [
    {
     "name": "stdout",
     "output_type": "stream",
     "text": [
      "DAYS [ 2  0  1  3  6  8  9 10 11 12 13 14 15 19 20 21 22 25 26 27 28 30 31  4\n",
      "  7 16 17 18 23 24  5 29] \n",
      "\n",
      " MONTHS [ 7  0  1  2  3  4  5  6  8  9 10 11 12] \n",
      "\n",
      " YEARS [1970 1971 1972 1973 1974 1975 1976 1977 1978 1979 1980 1981 1986 1982\n",
      " 1983 1984 1985 1987 1988 1989 1990 1991 1992 1994 1995 1996 1997 1998\n",
      " 1999 2000 2001 2002 2003 2004 2005 2006 2007 2008 2009 2010 2011 2012\n",
      " 2013 2014 2015 2016 2017]\n"
     ]
    }
   ],
   "source": [
    "print(\"DAYS\",\n",
    "df[\"iday\"].unique(),\"\\n\\n\",\n",
    "      \"MONTHS\",\n",
    "df[\"imonth\"].unique(),\"\\n\\n\",\n",
    "      \"YEARS\",\n",
    "df[\"iyear\"].unique()\n",
    "     )"
   ]
  },
  {
   "cell_type": "code",
   "execution_count": 19,
   "id": "ff7c075a-c83a-4453-bb52-0558a5bda550",
   "metadata": {
    "tags": []
   },
   "outputs": [
    {
     "data": {
      "text/plain": [
       "15    6500\n",
       "1     6344\n",
       "4     6153\n",
       "16    6112\n",
       "10    6064\n",
       "9     6057\n",
       "13    6043\n",
       "14    6028\n",
       "28    6027\n",
       "12    6012\n",
       "3     6011\n",
       "7     5997\n",
       "19    5973\n",
       "2     5954\n",
       "27    5937\n",
       "11    5936\n",
       "20    5930\n",
       "18    5880\n",
       "25    5875\n",
       "8     5859\n",
       "17    5852\n",
       "5     5844\n",
       "21    5827\n",
       "26    5823\n",
       "22    5799\n",
       "23    5782\n",
       "6     5781\n",
       "24    5752\n",
       "29    5507\n",
       "30    5046\n",
       "31    3095\n",
       "0      891\n",
       "Name: iday, dtype: int64"
      ]
     },
     "execution_count": 19,
     "metadata": {},
     "output_type": "execute_result"
    }
   ],
   "source": [
    "# from this, the value 0 is unrealistic. hence looking at the data it is highly probable that 0 refers to 31st day of the month \n",
    "df[\"iday\"].value_counts().sort_values(ascending = False)"
   ]
  },
  {
   "cell_type": "code",
   "execution_count": 499,
   "id": "8b664157-ffc5-413a-ae05-3653a2419588",
   "metadata": {
    "jupyter": {
     "source_hidden": true
    },
    "tags": []
   },
   "outputs": [
    {
     "data": {
      "text/plain": [
       "5     16875\n",
       "7     16268\n",
       "8     15800\n",
       "10    15563\n",
       "6     15359\n",
       "3     15257\n",
       "4     15152\n",
       "1     14936\n",
       "11    14906\n",
       "9     14180\n",
       "2     13879\n",
       "12    13496\n",
       "0        20\n",
       "Name: imonth, dtype: int64"
      ]
     },
     "execution_count": 499,
     "metadata": {},
     "output_type": "execute_result"
    }
   ],
   "source": [
    "df[\"imonth\"].value_counts()"
   ]
  },
  {
   "cell_type": "markdown",
   "id": "373f7d4c-73e6-49a5-9e0e-10d142aa7bc8",
   "metadata": {},
   "source": [
    "**We Visualize the Date to see if pattern exists in the Days, Months or Years** "
   ]
  },
  {
   "cell_type": "code",
   "execution_count": 500,
   "id": "8297c779-b0a7-4a82-95fa-1c3d1aeeae1d",
   "metadata": {},
   "outputs": [
    {
     "data": {
      "image/png": "[encoded data removed]",
      "text/plain": [
       "<Figure size 1440x360 with 3 Axes>"
      ]
     },
     "metadata": {},
     "output_type": "display_data"
    }
   ],
   "source": [
    "# ploting the date elements by frequency to check for significance \n",
    "fig, axes = plt.subplots(nrows=1,ncols=3, figsize=(20,5))\n",
    "\n",
    "plt.suptitle(\"SHOWING THE DISTRIBUTION OF DAYS MONTH AND YEAR\", fontsize=20)\n",
    "\n",
    "# The Subplots\n",
    "sns.histplot(data=df['iday'], ax=axes[0], kde=True)\n",
    "axes[0].set_title('Days')\n",
    "\n",
    "sns.histplot(data=df['imonth'], ax=axes[1], kde=True)\n",
    "axes[1].set_title('Month')\n",
    "\n",
    "sns.histplot(data=df['iyear'], ax=axes[2], kde=True)\n",
    "axes[2].set_title('Years')\n",
    "\n",
    "plt.tight_layout()\n",
    "plt.show()"
   ]
  },
  {
   "cell_type": "markdown",
   "id": "2a7768f3-8e9b-46e4-8e56-4be5ad643f39",
   "metadata": {},
   "source": [
    "The data shows that days and months starts from 0 to 31st and 12 respectively while the year starts from 1970. But looking at the chart above the details suggests that days and months has a low variability. from the graph we have good reason to believe that 0 in days meant 31st day of the month while in months it meanth to be 12. "
   ]
  },
  {
   "cell_type": "code",
   "execution_count": 501,
   "id": "dde1540b-e691-4b1c-bca3-8abc774b0bd0",
   "metadata": {
    "tags": []
   },
   "outputs": [],
   "source": [
    "# Replacing 0 with value 31st in days and 12 in months\n",
    "df[\"iday\"] = df[\"iday\"].replace({0:31})\n",
    "df[\"imonth\"] = df[\"imonth\"].replace({0:12})"
   ]
  },
  {
   "cell_type": "code",
   "execution_count": 502,
   "id": "e1d2f821-b3f0-4734-b5a6-49a78762bc67",
   "metadata": {
    "tags": []
   },
   "outputs": [
    {
     "data": {
      "text/plain": [
       "0   1970-07-02\n",
       "1   1970-12-31\n",
       "2   1970-01-31\n",
       "3   1970-01-31\n",
       "4   1970-01-31\n",
       "Name: date, dtype: datetime64[ns]"
      ]
     },
     "execution_count": 502,
     "metadata": {},
     "output_type": "execute_result"
    }
   ],
   "source": [
    "# Renaming the day, month and year values\n",
    "df['day'] = df['iday']\n",
    "df['month'] = df['imonth']\n",
    "df['year'] = df['iyear']\n",
    "\n",
    "# coverting them to datetime data type\n",
    "df[\"date\"] =pd.to_datetime(df[[\"day\",\"month\",\"year\"]], errors=\"coerce\")\n",
    "\n",
    "# Dropping the old values \n",
    "df = df.drop(columns = [\"iday\",\"imonth\",\"iyear\",\"day\",\"month\",\"year\"])\n",
    "\n",
    "df[\"date\"].head()"
   ]
  },
  {
   "cell_type": "code",
   "execution_count": 503,
   "id": "a453fdeb-be1b-44a6-b4f8-ca6aa6912316",
   "metadata": {},
   "outputs": [],
   "source": [
    "# dropping all undocumented values\n",
    "df_shape_before = df.shape\n",
    "df = df.dropna(subset = [\"date\"])"
   ]
  },
  {
   "cell_type": "code",
   "execution_count": 504,
   "id": "172442b7-ad58-45d3-88ff-e779d0a0af2a",
   "metadata": {},
   "outputs": [
    {
     "name": "stdout",
     "output_type": "stream",
     "text": [
      "CHECKING THE SIZE OF DATA REMOVED \n",
      " ----------------------------------- \n",
      " Data size before =  181691 observation \n",
      "Data size after =  181320 observation \n",
      " 371 Observations Removed, which is  0.204 percent of the total data\n"
     ]
    }
   ],
   "source": [
    "print (\"CHECKING THE SIZE OF DATA REMOVED\",\"\\n\",\"-\"*35,\"\\n\",\n",
    "\"Data size before = \", df_shape_before[0],\"observation\",'\\n'\n",
    "\"Data size after = \", df.shape[0], \"observation\",'\\n',\n",
    "df_shape_before[0] - df.shape[0], \"Observations Removed, which is \", round(((df_shape_before[0] - df.shape[0])/df_shape_before[0])*100,3), \"percent of the total data\"\n",
    ")"
   ]
  },
  {
   "cell_type": "markdown",
   "id": "2420a5fb-909d-433f-924c-f0ded0b76a61",
   "metadata": {},
   "source": [
    "### Inspecting and Cleaning Location data \n",
    "** Cleaning the Location Data Seperately will help us in dealing with leacky features i.e. features that gives almost the same information this can lead to high correlation between the datasets and also lead to overfitting **"
   ]
  },
  {
   "cell_type": "code",
   "execution_count": 505,
   "id": "5c903f5e-ba75-474e-a39d-29e9f8665589",
   "metadata": {},
   "outputs": [],
   "source": [
    "df_loc = df[['country', 'country_txt','region', 'region_txt', 'provstate', 'city', 'latitude', 'longitude']]"
   ]
  },
  {
   "cell_type": "code",
   "execution_count": 506,
   "id": "655a8782-a743-44fd-88d5-f6b1076e8ae7",
   "metadata": {},
   "outputs": [
    {
     "data": {
      "text/plain": [
       "country           0\n",
       "country_txt       0\n",
       "region            0\n",
       "region_txt        0\n",
       "provstate       418\n",
       "city            434\n",
       "latitude       4514\n",
       "longitude      4515\n",
       "dtype: int64"
      ]
     },
     "execution_count": 506,
     "metadata": {},
     "output_type": "execute_result"
    }
   ],
   "source": [
    "df_loc.isnull().sum()"
   ]
  },
  {
   "cell_type": "code",
   "execution_count": 507,
   "id": "b15df815-cb57-4f75-b9b1-ad2f29b2af81",
   "metadata": {
    "tags": []
   },
   "outputs": [
    {
     "data": {
      "text/html": [
       "<div>\n",
       "<style scoped>\n",
       "    .dataframe tbody tr th:only-of-type {\n",
       "        vertical-align: middle;\n",
       "    }\n",
       "\n",
       "    .dataframe tbody tr th {\n",
       "        vertical-align: top;\n",
       "    }\n",
       "\n",
       "    .dataframe thead th {\n",
       "        text-align: right;\n",
       "    }\n",
       "</style>\n",
       "<table border=\"1\" class=\"dataframe\">\n",
       "  <thead>\n",
       "    <tr style=\"text-align: right;\">\n",
       "      <th></th>\n",
       "      <th>country</th>\n",
       "    </tr>\n",
       "    <tr>\n",
       "      <th>country_txt</th>\n",
       "      <th></th>\n",
       "    </tr>\n",
       "  </thead>\n",
       "  <tbody>\n",
       "    <tr>\n",
       "      <th>Egypt</th>\n",
       "      <td>2479</td>\n",
       "    </tr>\n",
       "    <tr>\n",
       "      <th>France</th>\n",
       "      <td>2673</td>\n",
       "    </tr>\n",
       "    <tr>\n",
       "      <th>Algeria</th>\n",
       "      <td>2729</td>\n",
       "    </tr>\n",
       "    <tr>\n",
       "      <th>United States</th>\n",
       "      <td>2829</td>\n",
       "    </tr>\n",
       "    <tr>\n",
       "      <th>Sri Lanka</th>\n",
       "      <td>3001</td>\n",
       "    </tr>\n",
       "    <tr>\n",
       "      <th>Spain</th>\n",
       "      <td>3237</td>\n",
       "    </tr>\n",
       "    <tr>\n",
       "      <th>Yemen</th>\n",
       "      <td>3345</td>\n",
       "    </tr>\n",
       "    <tr>\n",
       "      <th>Thailand</th>\n",
       "      <td>3845</td>\n",
       "    </tr>\n",
       "    <tr>\n",
       "      <th>Nigeria</th>\n",
       "      <td>3907</td>\n",
       "    </tr>\n",
       "    <tr>\n",
       "      <th>Somalia</th>\n",
       "      <td>4134</td>\n",
       "    </tr>\n",
       "    <tr>\n",
       "      <th>Turkey</th>\n",
       "      <td>4275</td>\n",
       "    </tr>\n",
       "    <tr>\n",
       "      <th>United Kingdom</th>\n",
       "      <td>5220</td>\n",
       "    </tr>\n",
       "    <tr>\n",
       "      <th>El Salvador</th>\n",
       "      <td>5304</td>\n",
       "    </tr>\n",
       "    <tr>\n",
       "      <th>Peru</th>\n",
       "      <td>6082</td>\n",
       "    </tr>\n",
       "    <tr>\n",
       "      <th>Philippines</th>\n",
       "      <td>6897</td>\n",
       "    </tr>\n",
       "    <tr>\n",
       "      <th>Colombia</th>\n",
       "      <td>8284</td>\n",
       "    </tr>\n",
       "    <tr>\n",
       "      <th>India</th>\n",
       "      <td>11950</td>\n",
       "    </tr>\n",
       "    <tr>\n",
       "      <th>Afghanistan</th>\n",
       "      <td>12723</td>\n",
       "    </tr>\n",
       "    <tr>\n",
       "      <th>Pakistan</th>\n",
       "      <td>14357</td>\n",
       "    </tr>\n",
       "    <tr>\n",
       "      <th>Iraq</th>\n",
       "      <td>24629</td>\n",
       "    </tr>\n",
       "  </tbody>\n",
       "</table>\n",
       "</div>"
      ],
      "text/plain": [
       "                country\n",
       "country_txt            \n",
       "Egypt              2479\n",
       "France             2673\n",
       "Algeria            2729\n",
       "United States      2829\n",
       "Sri Lanka          3001\n",
       "Spain              3237\n",
       "Yemen              3345\n",
       "Thailand           3845\n",
       "Nigeria            3907\n",
       "Somalia            4134\n",
       "Turkey             4275\n",
       "United Kingdom     5220\n",
       "El Salvador        5304\n",
       "Peru               6082\n",
       "Philippines        6897\n",
       "Colombia           8284\n",
       "India             11950\n",
       "Afghanistan       12723\n",
       "Pakistan          14357\n",
       "Iraq              24629"
      ]
     },
     "execution_count": 507,
     "metadata": {},
     "output_type": "execute_result"
    }
   ],
   "source": [
    "df_loc[['country','country_txt']].groupby(by=\"country_txt\").count().sort_values(by=\"country\").tail(20)"
   ]
  },
  {
   "cell_type": "markdown",
   "id": "12d4e12c-4e92-4852-93f7-999f7f80695a",
   "metadata": {},
   "source": [
    "### Removing encoded fields"
   ]
  },
  {
   "cell_type": "markdown",
   "id": "c1a07060-1f02-45aa-93ed-b98b0fe1b687",
   "metadata": {},
   "source": [
    "\n",
    "most of the numerical data are the encoded values of the categorical data in the dataset. for the purpose of exploration we will drop them since there wounld not necessarily be any modelling involve"
   ]
  },
  {
   "cell_type": "code",
   "execution_count": 508,
   "id": "f8e4263c-bc67-4dbd-9f90-5301163cbefd",
   "metadata": {},
   "outputs": [
    {
     "data": {
      "text/plain": [
       "Index(['extended', 'country', 'country_txt', 'region', 'region_txt',\n",
       "       'provstate', 'city', 'latitude', 'longitude', 'specificity', 'vicinity',\n",
       "       'summary', 'crit1', 'crit2', 'crit3', 'doubtterr', 'multiple',\n",
       "       'success', 'suicide', 'attacktype1', 'attacktype1_txt', 'targtype1',\n",
       "       'targtype1_txt', 'targsubtype1', 'targsubtype1_txt', 'corp1', 'target1',\n",
       "       'natlty1', 'natlty1_txt', 'gname', 'guncertain1', 'individual',\n",
       "       'nperps', 'nperpcap', 'claimed', 'weaptype1', 'weaptype1_txt',\n",
       "       'weapsubtype1', 'weapsubtype1_txt', 'weapdetail', 'nkill', 'nkillus',\n",
       "       'nkillter', 'nwound', 'nwoundus', 'nwoundte', 'property', 'ishostkid',\n",
       "       'scite1', 'dbsource', 'INT_LOG', 'INT_IDEO', 'INT_MISC', 'INT_ANY',\n",
       "       'date'],\n",
       "      dtype='object')"
      ]
     },
     "execution_count": 508,
     "metadata": {},
     "output_type": "execute_result"
    }
   ],
   "source": [
    "df.columns"
   ]
  },
  {
   "cell_type": "code",
   "execution_count": 509,
   "id": "c5db3c8a-6544-4e3c-b6ba-38bed9355003",
   "metadata": {},
   "outputs": [],
   "source": [
    "df = df[['country_txt','region_txt','city', 'latitude', 'longitude','summary',\n",
    "    'attacktype1_txt','natlty1_txt','gname','weaptype1_txt', 'weapdetail', 'nkill','nwound','scite1','dbsource',\"date\"]]"
   ]
  },
  {
   "cell_type": "code",
   "execution_count": 510,
   "id": "9637b0f3-e0c3-4de5-8f09-7f977cebd8b1",
   "metadata": {},
   "outputs": [
    {
     "data": {
      "text/plain": [
       "(181320, 16)"
      ]
     },
     "execution_count": 510,
     "metadata": {},
     "output_type": "execute_result"
    }
   ],
   "source": [
    "df.shape"
   ]
  },
  {
   "cell_type": "code",
   "execution_count": 511,
   "id": "3dad7175-cf4f-4942-8dd2-f8c9eebd51b0",
   "metadata": {},
   "outputs": [
    {
     "data": {
      "text/plain": [
       "country_txt            0\n",
       "region_txt             0\n",
       "attacktype1_txt        0\n",
       "gname                  0\n",
       "weaptype1_txt          0\n",
       "dbsource               0\n",
       "date                   0\n",
       "city                 434\n",
       "natlty1_txt         1552\n",
       "latitude            4514\n",
       "longitude           4515\n",
       "nkill              10243\n",
       "nwound             16237\n",
       "summary            65861\n",
       "scite1             65923\n",
       "weapdetail         67556\n",
       "dtype: int64"
      ]
     },
     "execution_count": 511,
     "metadata": {},
     "output_type": "execute_result"
    }
   ],
   "source": [
    "df.isnull().sum().sort_values()"
   ]
  },
  {
   "cell_type": "code",
   "execution_count": 512,
   "id": "b8b3fe87-1f4a-4959-a5c8-5cb644d19594",
   "metadata": {},
   "outputs": [
    {
     "data": {
      "text/html": [
       "<div>\n",
       "<style scoped>\n",
       "    .dataframe tbody tr th:only-of-type {\n",
       "        vertical-align: middle;\n",
       "    }\n",
       "\n",
       "    .dataframe tbody tr th {\n",
       "        vertical-align: top;\n",
       "    }\n",
       "\n",
       "    .dataframe thead th {\n",
       "        text-align: right;\n",
       "    }\n",
       "</style>\n",
       "<table border=\"1\" class=\"dataframe\">\n",
       "  <thead>\n",
       "    <tr style=\"text-align: right;\">\n",
       "      <th></th>\n",
       "      <th>country_txt</th>\n",
       "      <th>region_txt</th>\n",
       "      <th>city</th>\n",
       "      <th>latitude</th>\n",
       "      <th>longitude</th>\n",
       "      <th>summary</th>\n",
       "      <th>attacktype1_txt</th>\n",
       "      <th>natlty1_txt</th>\n",
       "      <th>gname</th>\n",
       "      <th>weaptype1_txt</th>\n",
       "      <th>weapdetail</th>\n",
       "      <th>nkill</th>\n",
       "      <th>nwound</th>\n",
       "      <th>scite1</th>\n",
       "      <th>dbsource</th>\n",
       "      <th>date</th>\n",
       "    </tr>\n",
       "  </thead>\n",
       "  <tbody>\n",
       "    <tr>\n",
       "      <th>0</th>\n",
       "      <td>Dominican Republic</td>\n",
       "      <td>Central America &amp; Caribbean</td>\n",
       "      <td>Santo Domingo</td>\n",
       "      <td>18.456792</td>\n",
       "      <td>-69.951164</td>\n",
       "      <td>NaN</td>\n",
       "      <td>Assassination</td>\n",
       "      <td>Dominican Republic</td>\n",
       "      <td>MANO-D</td>\n",
       "      <td>Unknown</td>\n",
       "      <td>NaN</td>\n",
       "      <td>1.0</td>\n",
       "      <td>0.0</td>\n",
       "      <td>NaN</td>\n",
       "      <td>PGIS</td>\n",
       "      <td>1970-07-02</td>\n",
       "    </tr>\n",
       "    <tr>\n",
       "      <th>1</th>\n",
       "      <td>Mexico</td>\n",
       "      <td>North America</td>\n",
       "      <td>Mexico city</td>\n",
       "      <td>19.371887</td>\n",
       "      <td>-99.086624</td>\n",
       "      <td>NaN</td>\n",
       "      <td>Hostage Taking (Kidnapping)</td>\n",
       "      <td>Belgium</td>\n",
       "      <td>23rd of September Communist League</td>\n",
       "      <td>Unknown</td>\n",
       "      <td>NaN</td>\n",
       "      <td>0.0</td>\n",
       "      <td>0.0</td>\n",
       "      <td>NaN</td>\n",
       "      <td>PGIS</td>\n",
       "      <td>1970-12-31</td>\n",
       "    </tr>\n",
       "    <tr>\n",
       "      <th>2</th>\n",
       "      <td>Philippines</td>\n",
       "      <td>Southeast Asia</td>\n",
       "      <td>Unknown</td>\n",
       "      <td>15.478598</td>\n",
       "      <td>120.599741</td>\n",
       "      <td>NaN</td>\n",
       "      <td>Assassination</td>\n",
       "      <td>United States</td>\n",
       "      <td>Unknown</td>\n",
       "      <td>Unknown</td>\n",
       "      <td>NaN</td>\n",
       "      <td>1.0</td>\n",
       "      <td>0.0</td>\n",
       "      <td>NaN</td>\n",
       "      <td>PGIS</td>\n",
       "      <td>1970-01-31</td>\n",
       "    </tr>\n",
       "    <tr>\n",
       "      <th>3</th>\n",
       "      <td>Greece</td>\n",
       "      <td>Western Europe</td>\n",
       "      <td>Athens</td>\n",
       "      <td>37.997490</td>\n",
       "      <td>23.762728</td>\n",
       "      <td>NaN</td>\n",
       "      <td>Bombing/Explosion</td>\n",
       "      <td>United States</td>\n",
       "      <td>Unknown</td>\n",
       "      <td>Explosives</td>\n",
       "      <td>Explosive</td>\n",
       "      <td>NaN</td>\n",
       "      <td>NaN</td>\n",
       "      <td>NaN</td>\n",
       "      <td>PGIS</td>\n",
       "      <td>1970-01-31</td>\n",
       "    </tr>\n",
       "    <tr>\n",
       "      <th>4</th>\n",
       "      <td>Japan</td>\n",
       "      <td>East Asia</td>\n",
       "      <td>Fukouka</td>\n",
       "      <td>33.580412</td>\n",
       "      <td>130.396361</td>\n",
       "      <td>NaN</td>\n",
       "      <td>Facility/Infrastructure Attack</td>\n",
       "      <td>United States</td>\n",
       "      <td>Unknown</td>\n",
       "      <td>Incendiary</td>\n",
       "      <td>Incendiary</td>\n",
       "      <td>NaN</td>\n",
       "      <td>NaN</td>\n",
       "      <td>NaN</td>\n",
       "      <td>PGIS</td>\n",
       "      <td>1970-01-31</td>\n",
       "    </tr>\n",
       "  </tbody>\n",
       "</table>\n",
       "</div>"
      ],
      "text/plain": [
       "          country_txt                   region_txt           city   latitude  \\\n",
       "0  Dominican Republic  Central America & Caribbean  Santo Domingo  18.456792   \n",
       "1              Mexico                North America    Mexico city  19.371887   \n",
       "2         Philippines               Southeast Asia        Unknown  15.478598   \n",
       "3              Greece               Western Europe         Athens  37.997490   \n",
       "4               Japan                    East Asia        Fukouka  33.580412   \n",
       "\n",
       "    longitude summary                 attacktype1_txt         natlty1_txt  \\\n",
       "0  -69.951164     NaN                   Assassination  Dominican Republic   \n",
       "1  -99.086624     NaN     Hostage Taking (Kidnapping)             Belgium   \n",
       "2  120.599741     NaN                   Assassination       United States   \n",
       "3   23.762728     NaN               Bombing/Explosion       United States   \n",
       "4  130.396361     NaN  Facility/Infrastructure Attack       United States   \n",
       "\n",
       "                                gname weaptype1_txt  weapdetail  nkill  \\\n",
       "0                              MANO-D       Unknown         NaN    1.0   \n",
       "1  23rd of September Communist League       Unknown         NaN    0.0   \n",
       "2                             Unknown       Unknown         NaN    1.0   \n",
       "3                             Unknown    Explosives   Explosive    NaN   \n",
       "4                             Unknown    Incendiary  Incendiary    NaN   \n",
       "\n",
       "   nwound scite1 dbsource       date  \n",
       "0     0.0    NaN     PGIS 1970-07-02  \n",
       "1     0.0    NaN     PGIS 1970-12-31  \n",
       "2     0.0    NaN     PGIS 1970-01-31  \n",
       "3     NaN    NaN     PGIS 1970-01-31  \n",
       "4     NaN    NaN     PGIS 1970-01-31  "
      ]
     },
     "execution_count": 512,
     "metadata": {},
     "output_type": "execute_result"
    }
   ],
   "source": [
    "df.head()\n"
   ]
  },
  {
   "cell_type": "markdown",
   "id": "dd784dce-8c71-4704-8e23-9fcc9737b952",
   "metadata": {},
   "source": []
  },
  {
   "cell_type": "code",
   "execution_count": 513,
   "id": "4e80c8d5-45a0-4888-b32a-2470e38e24f8",
   "metadata": {},
   "outputs": [
    {
     "data": {
      "text/plain": [
       "Bombing/Explosion                      88105\n",
       "Armed Assault                          42627\n",
       "Assassination                          19254\n",
       "Hostage Taking (Kidnapping)            11103\n",
       "Facility/Infrastructure Attack         10323\n",
       "Unknown                                 7250\n",
       "Unarmed Assault                         1012\n",
       "Hostage Taking (Barricade Incident)      990\n",
       "Hijacking                                656\n",
       "Name: attacktype1_txt, dtype: int64"
      ]
     },
     "execution_count": 513,
     "metadata": {},
     "output_type": "execute_result"
    }
   ],
   "source": [
    "df[\"attacktype1_txt\"].value_counts()"
   ]
  },
  {
   "cell_type": "code",
   "execution_count": 514,
   "id": "9689d435-4b7d-4b52-b2a4-61495768eb24",
   "metadata": {},
   "outputs": [
    {
     "name": "stdout",
     "output_type": "stream",
     "text": [
      "<class 'pandas.core.frame.DataFrame'>\n",
      "Int64Index: 181320 entries, 0 to 181690\n",
      "Data columns (total 16 columns):\n",
      " #   Column           Non-Null Count   Dtype         \n",
      "---  ------           --------------   -----         \n",
      " 0   country_txt      181320 non-null  object        \n",
      " 1   region_txt       181320 non-null  object        \n",
      " 2   city             180886 non-null  object        \n",
      " 3   latitude         176806 non-null  float64       \n",
      " 4   longitude        176805 non-null  float64       \n",
      " 5   summary          115459 non-null  object        \n",
      " 6   attacktype1_txt  181320 non-null  object        \n",
      " 7   natlty1_txt      179768 non-null  object        \n",
      " 8   gname            181320 non-null  object        \n",
      " 9   weaptype1_txt    181320 non-null  object        \n",
      " 10  weapdetail       113764 non-null  object        \n",
      " 11  nkill            171077 non-null  float64       \n",
      " 12  nwound           165083 non-null  float64       \n",
      " 13  scite1           115397 non-null  object        \n",
      " 14  dbsource         181320 non-null  object        \n",
      " 15  date             181320 non-null  datetime64[ns]\n",
      "dtypes: datetime64[ns](1), float64(4), object(11)\n",
      "memory usage: 23.5+ MB\n"
     ]
    }
   ],
   "source": [
    "df.info()"
   ]
  },
  {
   "cell_type": "markdown",
   "id": "ea159156-9938-4657-96d4-ba1ddfa2b348",
   "metadata": {},
   "source": [
    "### Inspecting and Cleaning the features part 2 \n",
    " - Here we handle some other missing values in the data set by inspecting them one after the other  "
   ]
  },
  {
   "cell_type": "code",
   "execution_count": 515,
   "id": "ec2c58e7-296d-43b0-b526-4f2cec8922a4",
   "metadata": {
    "tags": []
   },
   "outputs": [
    {
     "data": {
      "text/plain": [
       "country_txt            0\n",
       "region_txt             0\n",
       "city                 434\n",
       "latitude            4514\n",
       "longitude           4515\n",
       "summary            65861\n",
       "attacktype1_txt        0\n",
       "natlty1_txt         1552\n",
       "gname                  0\n",
       "weaptype1_txt          0\n",
       "weapdetail         67556\n",
       "nkill              10243\n",
       "nwound             16237\n",
       "scite1             65923\n",
       "dbsource               0\n",
       "date                   0\n",
       "dtype: int64"
      ]
     },
     "execution_count": 515,
     "metadata": {},
     "output_type": "execute_result"
    }
   ],
   "source": [
    "df.isnull().sum()"
   ]
  },
  {
   "cell_type": "code",
   "execution_count": 516,
   "id": "3516a142-fe1c-4a2e-9ab1-9be8f680d3ee",
   "metadata": {},
   "outputs": [],
   "source": [
    "df[\"scite1\"] = df[\"scite1\"].fillna(\"not_pecify\")"
   ]
  },
  {
   "cell_type": "code",
   "execution_count": 517,
   "id": "418ba4d6-fb7d-49b4-9f1d-7594671e0945",
   "metadata": {},
   "outputs": [],
   "source": [
    "df[\"nwound\"] = df[\"nwound\"].fillna(df[\"nwound\"].mean())"
   ]
  },
  {
   "cell_type": "code",
   "execution_count": 518,
   "id": "a6eaa4b6-c6ae-4b13-8261-756147096ba1",
   "metadata": {},
   "outputs": [],
   "source": [
    "df[\"nkill\"] = df[\"nkill\"].fillna(df[\"nkill\"].mean())"
   ]
  },
  {
   "cell_type": "code",
   "execution_count": 519,
   "id": "5a3a89ca-6d1e-45cc-9707-86d37d90050a",
   "metadata": {},
   "outputs": [
    {
     "data": {
      "text/html": [
       "<div>\n",
       "<style scoped>\n",
       "    .dataframe tbody tr th:only-of-type {\n",
       "        vertical-align: middle;\n",
       "    }\n",
       "\n",
       "    .dataframe tbody tr th {\n",
       "        vertical-align: top;\n",
       "    }\n",
       "\n",
       "    .dataframe thead th {\n",
       "        text-align: right;\n",
       "    }\n",
       "</style>\n",
       "<table border=\"1\" class=\"dataframe\">\n",
       "  <thead>\n",
       "    <tr style=\"text-align: right;\">\n",
       "      <th></th>\n",
       "      <th>weapdetail</th>\n",
       "      <th>weaptype1_txt</th>\n",
       "      <th>summary</th>\n",
       "      <th>date</th>\n",
       "    </tr>\n",
       "  </thead>\n",
       "  <tbody>\n",
       "    <tr>\n",
       "      <th>0</th>\n",
       "      <td>NaN</td>\n",
       "      <td>Unknown</td>\n",
       "      <td>NaN</td>\n",
       "      <td>1970-07-02</td>\n",
       "    </tr>\n",
       "    <tr>\n",
       "      <th>1</th>\n",
       "      <td>NaN</td>\n",
       "      <td>Unknown</td>\n",
       "      <td>NaN</td>\n",
       "      <td>1970-12-31</td>\n",
       "    </tr>\n",
       "    <tr>\n",
       "      <th>2</th>\n",
       "      <td>NaN</td>\n",
       "      <td>Unknown</td>\n",
       "      <td>NaN</td>\n",
       "      <td>1970-01-31</td>\n",
       "    </tr>\n",
       "    <tr>\n",
       "      <th>3</th>\n",
       "      <td>Explosive</td>\n",
       "      <td>Explosives</td>\n",
       "      <td>NaN</td>\n",
       "      <td>1970-01-31</td>\n",
       "    </tr>\n",
       "    <tr>\n",
       "      <th>4</th>\n",
       "      <td>Incendiary</td>\n",
       "      <td>Incendiary</td>\n",
       "      <td>NaN</td>\n",
       "      <td>1970-01-31</td>\n",
       "    </tr>\n",
       "    <tr>\n",
       "      <th>...</th>\n",
       "      <td>...</td>\n",
       "      <td>...</td>\n",
       "      <td>...</td>\n",
       "      <td>...</td>\n",
       "    </tr>\n",
       "    <tr>\n",
       "      <th>181686</th>\n",
       "      <td>NaN</td>\n",
       "      <td>Firearms</td>\n",
       "      <td>12/31/2017: Assailants opened fire on a Somali...</td>\n",
       "      <td>2017-12-31</td>\n",
       "    </tr>\n",
       "    <tr>\n",
       "      <th>181687</th>\n",
       "      <td>Mortars were used in the attack.</td>\n",
       "      <td>Explosives</td>\n",
       "      <td>12/31/2017: Assailants launched mortars at the...</td>\n",
       "      <td>2017-12-31</td>\n",
       "    </tr>\n",
       "    <tr>\n",
       "      <th>181688</th>\n",
       "      <td>NaN</td>\n",
       "      <td>Incendiary</td>\n",
       "      <td>12/31/2017: Assailants set fire to houses in K...</td>\n",
       "      <td>2017-12-31</td>\n",
       "    </tr>\n",
       "    <tr>\n",
       "      <th>181689</th>\n",
       "      <td>A thrown grenade was used in the attack.</td>\n",
       "      <td>Explosives</td>\n",
       "      <td>12/31/2017: Assailants threw a grenade at a Fo...</td>\n",
       "      <td>2017-12-31</td>\n",
       "    </tr>\n",
       "    <tr>\n",
       "      <th>181690</th>\n",
       "      <td>An explosive device containing a detonating co...</td>\n",
       "      <td>Explosives</td>\n",
       "      <td>12/31/2017: An explosive device was discovered...</td>\n",
       "      <td>2017-12-31</td>\n",
       "    </tr>\n",
       "  </tbody>\n",
       "</table>\n",
       "<p>181320 rows × 4 columns</p>\n",
       "</div>"
      ],
      "text/plain": [
       "                                               weapdetail weaptype1_txt  \\\n",
       "0                                                     NaN       Unknown   \n",
       "1                                                     NaN       Unknown   \n",
       "2                                                     NaN       Unknown   \n",
       "3                                               Explosive    Explosives   \n",
       "4                                              Incendiary    Incendiary   \n",
       "...                                                   ...           ...   \n",
       "181686                                                NaN      Firearms   \n",
       "181687                   Mortars were used in the attack.    Explosives   \n",
       "181688                                                NaN    Incendiary   \n",
       "181689           A thrown grenade was used in the attack.    Explosives   \n",
       "181690  An explosive device containing a detonating co...    Explosives   \n",
       "\n",
       "                                                  summary       date  \n",
       "0                                                     NaN 1970-07-02  \n",
       "1                                                     NaN 1970-12-31  \n",
       "2                                                     NaN 1970-01-31  \n",
       "3                                                     NaN 1970-01-31  \n",
       "4                                                     NaN 1970-01-31  \n",
       "...                                                   ...        ...  \n",
       "181686  12/31/2017: Assailants opened fire on a Somali... 2017-12-31  \n",
       "181687  12/31/2017: Assailants launched mortars at the... 2017-12-31  \n",
       "181688  12/31/2017: Assailants set fire to houses in K... 2017-12-31  \n",
       "181689  12/31/2017: Assailants threw a grenade at a Fo... 2017-12-31  \n",
       "181690  12/31/2017: An explosive device was discovered... 2017-12-31  \n",
       "\n",
       "[181320 rows x 4 columns]"
      ]
     },
     "execution_count": 519,
     "metadata": {},
     "output_type": "execute_result"
    }
   ],
   "source": [
    "# there seems to be a correlation between `weapdetail and weaptype1, summary and date\n",
    "df[[\"weapdetail\",\"weaptype1_txt\", \"summary\",\"date\"]]"
   ]
  },
  {
   "cell_type": "code",
   "execution_count": 520,
   "id": "2e8ad21d-86fe-4964-9127-2bbd4d7cf348",
   "metadata": {},
   "outputs": [
    {
     "data": {
      "text/plain": [
       "natlty1_txt  country_txt       \n",
       "Iraq         Iraq                  23982\n",
       "Pakistan     Pakistan              13807\n",
       "India        India                 11825\n",
       "Afghanistan  Afghanistan           10785\n",
       "Colombia     Colombia               7867\n",
       "                                   ...  \n",
       "El Salvador  Panama                    1\n",
       "             Peru                      1\n",
       "             Spain                     1\n",
       "             West Germany (FRG)        1\n",
       "Austria      Colombia                  1\n",
       "Length: 2538, dtype: int64"
      ]
     },
     "execution_count": 520,
     "metadata": {},
     "output_type": "execute_result"
    }
   ],
   "source": [
    "# we can see that \"natlty1_txt\" and \"country_txt\" has a perfect corelation, heance we will drop natilty1_txt\n",
    "df[[\"natlty1_txt\",\"country_txt\"]].value_counts()"
   ]
  },
  {
   "cell_type": "code",
   "execution_count": 521,
   "id": "04f7986d-9357-4f7f-b896-3f1b18abd2a2",
   "metadata": {},
   "outputs": [],
   "source": [
    "#we will drop one each \n",
    "df = df.drop(columns = [\"weapdetail\",\"summary\", \"natlty1_txt\"])"
   ]
  },
  {
   "cell_type": "code",
   "execution_count": 522,
   "id": "edc8a981-0422-416d-9bcd-fe4bda1fed49",
   "metadata": {},
   "outputs": [
    {
     "data": {
      "text/plain": [
       "(181320, 13)"
      ]
     },
     "execution_count": 522,
     "metadata": {},
     "output_type": "execute_result"
    }
   ],
   "source": [
    "df.shape"
   ]
  },
  {
   "cell_type": "code",
   "execution_count": 523,
   "id": "edca8fcb-50f6-4a3c-81c7-2eff6f785f1a",
   "metadata": {},
   "outputs": [
    {
     "data": {
      "text/plain": [
       "country_txt           0\n",
       "region_txt            0\n",
       "city                434\n",
       "latitude           4514\n",
       "longitude          4515\n",
       "attacktype1_txt       0\n",
       "gname                 0\n",
       "weaptype1_txt         0\n",
       "nkill                 0\n",
       "nwound                0\n",
       "scite1                0\n",
       "dbsource              0\n",
       "date                  0\n",
       "dtype: int64"
      ]
     },
     "execution_count": 523,
     "metadata": {},
     "output_type": "execute_result"
    }
   ],
   "source": [
    "df.isnull().sum()"
   ]
  },
  {
   "cell_type": "code",
   "execution_count": 524,
   "id": "255ceaa3-b5aa-4429-a2ff-a71669ea33cd",
   "metadata": {},
   "outputs": [
    {
     "data": {
      "text/plain": [
       "Thailand        237\n",
       "Afghanistan     139\n",
       "Iraq             16\n",
       "Pakistan         11\n",
       "Indonesia         8\n",
       "Algeria           7\n",
       "Russia            4\n",
       "Syria             4\n",
       "Myanmar           3\n",
       "Macedonia         1\n",
       "Georgia           1\n",
       "Saudi Arabia      1\n",
       "Egypt             1\n",
       "Libya             1\n",
       "Name: country_txt, dtype: int64"
      ]
     },
     "execution_count": 524,
     "metadata": {},
     "output_type": "execute_result"
    }
   ],
   "source": [
    "df[df['city'].isnull()][\"country_txt\"].value_counts()"
   ]
  },
  {
   "cell_type": "code",
   "execution_count": 525,
   "id": "a354d382-a34c-4811-a042-b52d3019d2ee",
   "metadata": {},
   "outputs": [
    {
     "data": {
      "text/plain": [
       "Unknown            267\n",
       "Bangkok            220\n",
       "Yala               136\n",
       "Muang              115\n",
       "Bannang Sata        68\n",
       "                  ... \n",
       "Ban Klang            1\n",
       "Ban Ton Phai         1\n",
       "Tathong              1\n",
       "Kraso                1\n",
       "Ban Sawor Hilae      1\n",
       "Name: city, Length: 866, dtype: int64"
      ]
     },
     "execution_count": 525,
     "metadata": {},
     "output_type": "execute_result"
    }
   ],
   "source": [
    "df[df[\"country_txt\"]== \"Thailand\"][\"city\"].value_counts()"
   ]
  },
  {
   "cell_type": "code",
   "execution_count": 526,
   "id": "873efde3-e95a-436d-9dd4-a6206824bdf9",
   "metadata": {},
   "outputs": [],
   "source": [
    "df[\"city\"] = df[\"city\"].fillna(\"Unknown\")"
   ]
  },
  {
   "cell_type": "code",
   "execution_count": 527,
   "id": "fb3b4077-306b-4c78-b4a4-48939033acca",
   "metadata": {},
   "outputs": [
    {
     "data": {
      "text/plain": [
       "country_txt           0\n",
       "region_txt            0\n",
       "city                  0\n",
       "latitude           4514\n",
       "longitude          4515\n",
       "attacktype1_txt       0\n",
       "gname                 0\n",
       "weaptype1_txt         0\n",
       "nkill                 0\n",
       "nwound                0\n",
       "scite1                0\n",
       "dbsource              0\n",
       "date                  0\n",
       "dtype: int64"
      ]
     },
     "execution_count": 527,
     "metadata": {},
     "output_type": "execute_result"
    }
   ],
   "source": [
    "df.isnull().sum()"
   ]
  },
  {
   "cell_type": "code",
   "execution_count": 528,
   "id": "344bdf2c-801e-4116-a70f-ea19bce23d54",
   "metadata": {},
   "outputs": [],
   "source": [
    "#now we will drop all the observation that has no values in the longiture and latitude \n",
    "df = df.dropna()"
   ]
  },
  {
   "cell_type": "code",
   "execution_count": 529,
   "id": "4e1714b9-9a6f-404c-9ad8-7bbf7879481c",
   "metadata": {},
   "outputs": [
    {
     "name": "stdout",
     "output_type": "stream",
     "text": [
      "before cleaning we have  181691 observations and  135  Features \n",
      "after cleaning we are left  176805 observations and  13  Features\n"
     ]
    }
   ],
   "source": [
    "print (\n",
    "    \"before cleaning we have \" , data.shape[0], \"observations and \",data.shape[1],\" Features\",\"\\n\"\n",
    "    \"after cleaning we are left \", df.shape[0], \"observations and \",df.shape[1],\" Features\"  )"
   ]
  },
  {
   "cell_type": "code",
   "execution_count": 530,
   "id": "a5a98361-f248-424d-b7eb-c2a529acbde0",
   "metadata": {},
   "outputs": [
    {
     "name": "stdout",
     "output_type": "stream",
     "text": [
      "<class 'pandas.core.frame.DataFrame'>\n",
      "Int64Index: 176805 entries, 0 to 181690\n",
      "Data columns (total 13 columns):\n",
      " #   Column           Non-Null Count   Dtype         \n",
      "---  ------           --------------   -----         \n",
      " 0   country_txt      176805 non-null  object        \n",
      " 1   region_txt       176805 non-null  object        \n",
      " 2   city             176805 non-null  object        \n",
      " 3   latitude         176805 non-null  float64       \n",
      " 4   longitude        176805 non-null  float64       \n",
      " 5   attacktype1_txt  176805 non-null  object        \n",
      " 6   gname            176805 non-null  object        \n",
      " 7   weaptype1_txt    176805 non-null  object        \n",
      " 8   nkill            176805 non-null  float64       \n",
      " 9   nwound           176805 non-null  float64       \n",
      " 10  scite1           176805 non-null  object        \n",
      " 11  dbsource         176805 non-null  object        \n",
      " 12  date             176805 non-null  datetime64[ns]\n",
      "dtypes: datetime64[ns](1), float64(4), object(8)\n",
      "memory usage: 18.9+ MB\n"
     ]
    }
   ],
   "source": [
    "df.info()"
   ]
  },
  {
   "cell_type": "code",
   "execution_count": 531,
   "id": "6180c8f7-351d-45ab-8a0f-37e5d45254a5",
   "metadata": {},
   "outputs": [],
   "source": [
    "df[[\"nkill\",\"nwound\"]] = df[[\"nkill\",\"nwound\"]].astype(\"int\")"
   ]
  },
  {
   "cell_type": "code",
   "execution_count": 532,
   "id": "021d2138-53fd-4124-afaf-252411213951",
   "metadata": {},
   "outputs": [
    {
     "data": {
      "text/plain": [
       "0   1970-07-02\n",
       "1   1970-12-31\n",
       "2   1970-01-31\n",
       "3   1970-01-31\n",
       "4   1970-01-31\n",
       "Name: Date, dtype: datetime64[ns]"
      ]
     },
     "execution_count": 532,
     "metadata": {},
     "output_type": "execute_result"
    }
   ],
   "source": [
    "# Teansforming the date Values to datetime\n",
    "df[\"Date\"] = pd.to_datetime(df[\"date\"])\n",
    "df[\"Date\"].head()"
   ]
  },
  {
   "cell_type": "code",
   "execution_count": 533,
   "id": "0238c6df-e0a9-4f5c-bb2c-767a55294d0c",
   "metadata": {},
   "outputs": [],
   "source": [
    "# Grouping the weapon types to reduce cardinality \n",
    "df[\"weaptype1_txt\"] = df[\"weaptype1_txt\"].replace((\"Melee\",\"Chemical\",\"Vehicle (not to include vehicle-borne explosives, i.e., car or truck bombs)\",\"Sabotage Equipment\",\"Biological\",\"Biological\",\"Fake Weapons\",\"Radiological\"),\"Other\")"
   ]
  },
  {
   "cell_type": "code",
   "execution_count": 534,
   "id": "91ba7bc0-d051-437a-992b-ff588eec5f4c",
   "metadata": {},
   "outputs": [],
   "source": [
    "#Renaming long names in the attack type fields\n",
    "df[\"attacktype1_txt\"] = df[\"attacktype1_txt\"].replace((\"Unarmed Assault\",\"Hostage Taking (Barricade Incident)\",\"Hijacking\"),\"Other\")\n",
    "df[\"attacktype1_txt\"] = df[\"attacktype1_txt\"].replace(\"Bombing/Explosion\", \"Explossive\")\n",
    "df[\"attacktype1_txt\"] = df[\"attacktype1_txt\"].replace(\"Hostage Taking (Kidnapping)\",\"Hostage\")\n",
    "df[\"attacktype1_txt\"] = df[\"attacktype1_txt\"].replace(\"Facility/Infrastructure Attack\", \"facilityAttack\")"
   ]
  },
  {
   "cell_type": "code",
   "execution_count": 20,
   "id": "f2ae2619-bbb6-4a04-afa1-6f3a4e935628",
   "metadata": {},
   "outputs": [
    {
     "data": {
      "text/plain": [
       "START Primary Collection                    78002\n",
       "PGIS                                        63740\n",
       "ISVG                                        17207\n",
       "CETIS                                       16163\n",
       "CAIN                                         1588\n",
       "UMD Schmid 2012                              1165\n",
       "Hewitt Project                               1005\n",
       "UMD Algeria 2010-2012                         848\n",
       "UMD South Africa                              449\n",
       "UMD Sri Lanka 2011                            405\n",
       "UMD Miscellaneous                             259\n",
       "Anti-Abortion Project 2010                    186\n",
       "Eco Project 2010                              147\n",
       "UMD JTMM Nepal 2012                           104\n",
       "HSI                                            97\n",
       "Hyland                                         71\n",
       "Hijacking DB                                   54\n",
       "UMD Encyclopedia of World Terrorism 2012       48\n",
       "CBRN Global Chronology                         46\n",
       "Armenian Website                               40\n",
       "State Department 1997 Document                 28\n",
       "UMD Assassinations Project                     18\n",
       "UMD Black Widows 2011                           7\n",
       "Leuprecht Canadian Data                         6\n",
       "Disorders and Terrorism Chronology              5\n",
       "Sageman                                         3\n",
       "Name: dbsource, dtype: int64"
      ]
     },
     "execution_count": 20,
     "metadata": {},
     "output_type": "execute_result"
    }
   ],
   "source": [
    "df[\"dbsource\"].value_counts()"
   ]
  },
  {
   "cell_type": "code",
   "execution_count": 535,
   "id": "b1402033-1e79-42ae-9da1-3bc85391d3ef",
   "metadata": {},
   "outputs": [],
   "source": [
    "df[\"dbsource\"] = df[\"dbsource\"].replace(('CAIN',\n",
    "       'UMD Schmid 2012', 'Hewitt Project', 'UMD Algeria 2010-2012',\n",
    "       'UMD South Africa', 'UMD Sri Lanka 2011', 'UMD Miscellaneous',\n",
    "       'Anti-Abortion Project 2010', 'Eco Project 2010', 'UMD JTMM Nepal 2012',\n",
    "       'HSI', 'Hyland', 'Hijacking DB',\n",
    "       'UMD Encyclopedia of World Terrorism 2012', 'Armenian Website',\n",
    "       'CBRN Global Chronology', 'State Department 1997 Document',\n",
    "       'UMD Assassinations Project', 'UMD Black Widows 2011',\n",
    "       'Leuprecht Canadian Data', 'Disorders and Terrorism Chronology',\n",
    "       'Sageman'),\"Others\")"
   ]
  },
  {
   "cell_type": "code",
   "execution_count": 536,
   "id": "5c3ac10b-3752-48cb-a0a5-2f8ac5911940",
   "metadata": {},
   "outputs": [
    {
     "data": {
      "text/plain": [
       "(176805, 14)"
      ]
     },
     "execution_count": 536,
     "metadata": {},
     "output_type": "execute_result"
    }
   ],
   "source": [
    "df.shape"
   ]
  },
  {
   "cell_type": "code",
   "execution_count": 22,
   "id": "d20ce332-79e2-4d40-91ef-d826793db2e6",
   "metadata": {},
   "outputs": [
    {
     "data": {
      "text/plain": [
       "eventid       False\n",
       "iyear         False\n",
       "imonth        False\n",
       "iday          False\n",
       "approxdate     True\n",
       "              ...  \n",
       "INT_LOG       False\n",
       "INT_IDEO      False\n",
       "INT_MISC      False\n",
       "INT_ANY       False\n",
       "related        True\n",
       "Length: 135, dtype: bool"
      ]
     },
     "execution_count": 22,
     "metadata": {},
     "output_type": "execute_result"
    }
   ],
   "source": [
    "df.isnull().sum()"
   ]
  },
  {
   "cell_type": "code",
   "execution_count": 537,
   "id": "4c0c6d72-9c26-43cf-9774-afc0298da1fb",
   "metadata": {},
   "outputs": [
    {
     "name": "stdout",
     "output_type": "stream",
     "text": [
      "\n",
      "Data Exported successfully\n"
     ]
    }
   ],
   "source": [
    "#Exporting the cleaned dataset\n",
    "df.to_csv(\"data_cleaned.csv\", index=False)\n",
    "print(\"\\nData Exported successfully\")"
   ]
  },
  {
   "cell_type": "markdown",
   "id": "f91f2e12-dc94-415a-b11b-25b198f1bc1a",
   "metadata": {
    "tags": []
   },
   "source": [
    "# Visualization"
   ]
  },
  {
   "cell_type": "code",
   "execution_count": 538,
   "id": "c26bb255-0e43-4127-8b34-99f74de1331e",
   "metadata": {
    "tags": []
   },
   "outputs": [],
   "source": [
    "data = df.copy()"
   ]
  },
  {
   "cell_type": "code",
   "execution_count": 444,
   "id": "74817e68-f254-4b24-a28c-3ff963bbf71d",
   "metadata": {
    "tags": []
   },
   "outputs": [
    {
     "data": {
      "image/png": "[encoded data removed]",
      "text/plain": [
       "<Figure size 432x288 with 1 Axes>"
      ]
     },
     "metadata": {},
     "output_type": "display_data"
    }
   ],
   "source": [
    "# colors = sns.color_palette('pastel')[0:4]\n",
    "\n",
    "# # create the pie chart\n",
    "# plt.pie(df['values'], labels=df['labels'], colors=colors, autopct='%1.1f%%', startangle=90)\n",
    "\n",
    "# # add a title\n",
    "\n",
    "# plt.show()"
   ]
  },
  {
   "cell_type": "code",
   "execution_count": 445,
   "id": "672fa537-8551-46cb-a0ac-c84e374b4124",
   "metadata": {},
   "outputs": [
    {
     "data": {
      "text/plain": [
       "Index(['country_txt', 'region_txt', 'city', 'latitude', 'longitude',\n",
       "       'attacktype1_txt', 'gname', 'weaptype1_txt', 'nkill', 'nwound',\n",
       "       'scite1', 'dbsource', 'date'],\n",
       "      dtype='object')"
      ]
     },
     "execution_count": 445,
     "metadata": {},
     "output_type": "execute_result"
    }
   ],
   "source": [
    "data.columns"
   ]
  },
  {
   "cell_type": "code",
   "execution_count": 446,
   "id": "f4379d62-55bc-435a-86e3-23b7de1ee9f0",
   "metadata": {},
   "outputs": [],
   "source": [
    "import plotly.express as px"
   ]
  },
  {
   "cell_type": "markdown",
   "id": "2fbf7a34-a78f-4c29-9127-7bab206c02e2",
   "metadata": {},
   "source": [
    "Below is the geospatial analysis using mapbox, it is disabled because my token has expired "
   ]
  },
  {
   "cell_type": "code",
   "execution_count": 448,
   "id": "10185ab1-a663-4f37-a60a-0944c14085ce",
   "metadata": {},
   "outputs": [],
   "source": [
    "# data['latitude'] = pd.to_numeric(data['latitude'])\n",
    "# data['longitude'] = pd.to_numeric(data['longitude'])\n",
    "\n",
    "# px.set_mapbox_access_token(\"pk.eyJ1IjoicmV1YmVuc29sbyIsImEiOiJjbHJuajVnMDEwM2wzMmxzaWhjdWc0eG5zIn0.3aGLSQGd4mKKJOZhucHBWw\")\n",
    "\n",
    "# fig = px.scatter_mapbox(data, lat=data['latitude'] , lon=data['longitude']  , zoom = 10)\n",
    "\n",
    "# fig.update_layout(mapbox_style=\"basic\")\n",
    "\n",
    "# fig.update_traces(marker=dict(size=8, color='red', opacity=0.6))\n",
    "\n",
    "# fig.update_layout(\n",
    "#     xaxis_title=\"Longitude\",\n",
    "#     yaxis_title=\"Latitude\",\n",
    "#     font=dict(family=\"Arial, sans-serif\", size=12, color=\"RebeccaPurple\")\n",
    "    \n",
    "# fig.show()"
   ]
  },
  {
   "cell_type": "markdown",
   "id": "bef9ae6a-a7db-4800-99ba-0a72ca1f94b8",
   "metadata": {},
   "source": [
    "- geospatial representation\n",
    "- top ten countries with highest rate of attack\n",
    "- top ten with lowest rates\n",
    "- dates and number of attacks\n",
    "- regions with number of attacks \n",
    "- type of attack and weapon used\n",
    "- number of kills by type of weapon\n",
    "- sources of information \n"
   ]
  },
  {
   "cell_type": "code",
   "execution_count": 449,
   "id": "e4f49489-2e96-4f36-997d-208831ca2b11",
   "metadata": {},
   "outputs": [
    {
     "data": {
      "text/plain": [
       "Iraq              24480\n",
       "Pakistan          14307\n",
       "Afghanistan       12631\n",
       "India             11792\n",
       "Colombia           7820\n",
       "Philippines        6519\n",
       "Peru               5796\n",
       "United Kingdom     5212\n",
       "El Salvador        4835\n",
       "Somalia            4115\n",
       "Name: country_txt, dtype: int64"
      ]
     },
     "execution_count": 449,
     "metadata": {},
     "output_type": "execute_result"
    }
   ],
   "source": [
    "data[\"country_txt\"].value_counts().head(10).sort_values(ascending=False)"
   ]
  },
  {
   "cell_type": "code",
   "execution_count": 454,
   "id": "c61aaaa6-ed13-4e51-92be-10c5f0632db5",
   "metadata": {},
   "outputs": [
    {
     "data": {
      "image/png": "[encoded data removed]",
      "text/plain": [
       "<Figure size 1008x432 with 2 Axes>"
      ]
     },
     "metadata": {},
     "output_type": "display_data"
    }
   ],
   "source": [
    "#Creating an instance fopr plotting\n",
    "type_of_attack = data[\"attacktype1_txt\"].value_counts().head(10).sort_values(ascending=False)\n",
    "weapon_used = data[\"weaptype1_txt\"].value_counts().tail(10).sort_values(ascending=True)\n",
    "\n",
    "# Creating a figure with two subplots\n",
    "fig, axes = plt.subplots(nrows=1, ncols=2, figsize=(14, 6), sharey=True)\n",
    "\n",
    "# Ploting type of attack on the first subplot\n",
    "axes[0].bar(type_of_attack.index, type_of_attack, color='skyblue', edgecolor='black')\n",
    "axes[0].set_title('Type of attack', fontsize=20)\n",
    "axes[0].set_xlabel('Type of Attack')\n",
    "axes[0].set_ylabel('Frequency')\n",
    "axes[0].tick_params(axis='x', rotation=45)\n",
    "\n",
    "# Ploting weapon used on the second subplot\n",
    "axes[1].bar(weapon_used.index, weapon_used, color='salmon', edgecolor='black')\n",
    "axes[1].set_title('weapon used', fontsize=20)\n",
    "axes[1].set_xlabel('Type of weapon used')\n",
    "axes[1].set_ylabel('Frequency')\n",
    "axes[1].tick_params(axis='x', rotation=45)\n",
    "\n",
    "# Adjust layout to prevent overlap\n",
    "plt.tight_layout()\n",
    "\n",
    "# Show the plots\n",
    "plt.show()"
   ]
  },
  {
   "cell_type": "code",
   "execution_count": 455,
   "id": "895bfdc6-a6e5-4142-ae00-388b88c1a512",
   "metadata": {},
   "outputs": [],
   "source": []
  },
  {
   "cell_type": "code",
   "execution_count": 539,
   "id": "7fad1236-130f-4e74-a7c1-e833b3ef7fe7",
   "metadata": {},
   "outputs": [
    {
     "data": {
      "image/png": "[encoded data removed]",
      "text/plain": [
       "<Figure size 1008x432 with 2 Axes>"
      ]
     },
     "metadata": {},
     "output_type": "display_data"
    }
   ],
   "source": [
    "region = data[\"region_txt\"].value_counts().head(10).sort_values(ascending=False)\n",
    "data_source = data[\"dbsource\"].value_counts().tail(10).sort_values(ascending=True)\n",
    "\n",
    "# Creating a figure with two subplots\n",
    "fig, axes = plt.subplots(nrows=1, ncols=2, figsize=(14, 6), sharey=True)\n",
    "\n",
    "# Ploting Region on the first subplot\n",
    "axes[0].bar(region.index, region, color='blue', edgecolor='black')\n",
    "axes[0].set_title('Region', fontsize=20)\n",
    "axes[0].set_xlabel('Region')\n",
    "axes[0].set_ylabel('Frequency')\n",
    "axes[0].tick_params(axis='x', rotation=45)\n",
    "\n",
    "# Ploting Data source on the second subplot\n",
    "axes[1].bar(data_source.index, data_source, color='green', edgecolor='black')\n",
    "axes[1].set_title('Data Sources', fontsize=20)\n",
    "axes[1].set_xlabel('The source of the data')\n",
    "axes[1].set_ylabel('Frequency')\n",
    "axes[1].tick_params(axis='x', rotation=45)\n",
    "\n",
    "# Adjust layout to prevent overlap\n",
    "plt.tight_layout()\n",
    "\n",
    "# Show the plots\n",
    "plt.show()"
   ]
  },
  {
   "cell_type": "code",
   "execution_count": 457,
   "id": "e3925454-b79f-469f-8729-994793650a52",
   "metadata": {},
   "outputs": [
    {
     "data": {
      "text/plain": [
       "0         1970\n",
       "1         1970\n",
       "2         1970\n",
       "3         1970\n",
       "4         1970\n",
       "          ... \n",
       "176800    2017\n",
       "176801    2017\n",
       "176802    2017\n",
       "176803    2017\n",
       "176804    2017\n",
       "Name: year, Length: 176805, dtype: int64"
      ]
     },
     "execution_count": 457,
     "metadata": {},
     "output_type": "execute_result"
    }
   ],
   "source": []
  },
  {
   "cell_type": "code",
   "execution_count": 458,
   "id": "1623f9c1-dc00-47c4-be12-cdb2869d4a0a",
   "metadata": {},
   "outputs": [],
   "source": [
    "kill_per_year = data[[\"year\",\"nkill\"]].groupby(by=\"year\").sum().sort_values(by=\"nkill\", ascending=False)\n",
    "wound_per_year = data[[\"year\",\"nwound\"]].groupby(by=\"year\").sum().sort_values(by=\"nwound\", ascending=False)"
   ]
  },
  {
   "cell_type": "code",
   "execution_count": 459,
   "id": "cf0aff14-9c0d-44b0-9230-f37cf7da98cf",
   "metadata": {},
   "outputs": [
    {
     "data": {
      "text/html": [
       "<div>\n",
       "<style scoped>\n",
       "    .dataframe tbody tr th:only-of-type {\n",
       "        vertical-align: middle;\n",
       "    }\n",
       "\n",
       "    .dataframe tbody tr th {\n",
       "        vertical-align: top;\n",
       "    }\n",
       "\n",
       "    .dataframe thead th {\n",
       "        text-align: right;\n",
       "    }\n",
       "</style>\n",
       "<table border=\"1\" class=\"dataframe\">\n",
       "  <thead>\n",
       "    <tr style=\"text-align: right;\">\n",
       "      <th></th>\n",
       "      <th>nwound</th>\n",
       "    </tr>\n",
       "    <tr>\n",
       "      <th>year</th>\n",
       "      <th></th>\n",
       "    </tr>\n",
       "  </thead>\n",
       "  <tbody>\n",
       "    <tr>\n",
       "      <th>2015</th>\n",
       "      <td>48358</td>\n",
       "    </tr>\n",
       "    <tr>\n",
       "      <th>2014</th>\n",
       "      <td>46496</td>\n",
       "    </tr>\n",
       "    <tr>\n",
       "      <th>2016</th>\n",
       "      <td>43345</td>\n",
       "    </tr>\n",
       "    <tr>\n",
       "      <th>2013</th>\n",
       "      <td>39325</td>\n",
       "    </tr>\n",
       "    <tr>\n",
       "      <th>2017</th>\n",
       "      <td>27770</td>\n",
       "    </tr>\n",
       "  </tbody>\n",
       "</table>\n",
       "</div>"
      ],
      "text/plain": [
       "      nwound\n",
       "year        \n",
       "2015   48358\n",
       "2014   46496\n",
       "2016   43345\n",
       "2013   39325\n",
       "2017   27770"
      ]
     },
     "execution_count": 459,
     "metadata": {},
     "output_type": "execute_result"
    }
   ],
   "source": [
    "wound_per_year.head()"
   ]
  },
  {
   "cell_type": "code",
   "execution_count": 460,
   "id": "b2bb2cca-915f-40a8-ac7a-d09561e89945",
   "metadata": {},
   "outputs": [
    {
     "data": {
      "text/html": [
       "<div>\n",
       "<style scoped>\n",
       "    .dataframe tbody tr th:only-of-type {\n",
       "        vertical-align: middle;\n",
       "    }\n",
       "\n",
       "    .dataframe tbody tr th {\n",
       "        vertical-align: top;\n",
       "    }\n",
       "\n",
       "    .dataframe thead th {\n",
       "        text-align: right;\n",
       "    }\n",
       "</style>\n",
       "<table border=\"1\" class=\"dataframe\">\n",
       "  <thead>\n",
       "    <tr style=\"text-align: right;\">\n",
       "      <th></th>\n",
       "      <th>nkill</th>\n",
       "    </tr>\n",
       "    <tr>\n",
       "      <th>year</th>\n",
       "      <th></th>\n",
       "    </tr>\n",
       "  </thead>\n",
       "  <tbody>\n",
       "    <tr>\n",
       "      <th>2014</th>\n",
       "      <td>46308</td>\n",
       "    </tr>\n",
       "    <tr>\n",
       "      <th>2015</th>\n",
       "      <td>40272</td>\n",
       "    </tr>\n",
       "    <tr>\n",
       "      <th>2016</th>\n",
       "      <td>36373</td>\n",
       "    </tr>\n",
       "    <tr>\n",
       "      <th>2017</th>\n",
       "      <td>27559</td>\n",
       "    </tr>\n",
       "    <tr>\n",
       "      <th>2013</th>\n",
       "      <td>22843</td>\n",
       "    </tr>\n",
       "  </tbody>\n",
       "</table>\n",
       "</div>"
      ],
      "text/plain": [
       "      nkill\n",
       "year       \n",
       "2014  46308\n",
       "2015  40272\n",
       "2016  36373\n",
       "2017  27559\n",
       "2013  22843"
      ]
     },
     "execution_count": 460,
     "metadata": {},
     "output_type": "execute_result"
    }
   ],
   "source": [
    "kill_per_year.head()"
   ]
  },
  {
   "cell_type": "code",
   "execution_count": 461,
   "id": "7df1c0c2-92dd-4a58-ac12-80001da03457",
   "metadata": {},
   "outputs": [],
   "source": [
    "kill_per_year = kill_per_year.reset_index()\n",
    "wound_per_year = wound_per_year.reset_index()"
   ]
  },
  {
   "cell_type": "code",
   "execution_count": null,
   "id": "020bb1c1-1096-4e70-95a5-8f9207a23381",
   "metadata": {},
   "outputs": [],
   "source": []
  },
  {
   "cell_type": "code",
   "execution_count": 473,
   "id": "b120ffb4-cb3b-4807-a90d-921dcbda2ca4",
   "metadata": {},
   "outputs": [
    {
     "data": {
      "image/png": "[encoded data removed]",
      "text/plain": [
       "<Figure size 1008x576 with 2 Axes>"
      ]
     },
     "metadata": {},
     "output_type": "display_data"
    }
   ],
   "source": [
    "fig, axes = plt.subplots(nrows=2, ncols=1, figsize=(14, 8))\n",
    "\n",
    "\n",
    "# Plot total kills per year\n",
    "sns.barplot(x=kill_per_year[\"year\"], y=kill_per_year[\"nkill\"], data=kill_per_year, ax=axes[0])\n",
    "\n",
    "# Set labels and title for the first subplot\n",
    "axes[0].set_xlabel('Year')\n",
    "axes[0].set_ylabel('KILLED', fontsize = 20)\n",
    "axes[0].set_title('Total Kills per Year', fontsize = 20)\n",
    "axes[0].tick_params(axis='x', rotation=90)\n",
    "\n",
    "# Plot total wounded per year\n",
    "sns.barplot(x=wound_per_year[\"year\"], y=wound_per_year[\"nwound\"], data=wound_per_year, ax=axes[1])\n",
    "\n",
    "# Set labels and title for the second subplot\n",
    "axes[1].set_xlabel('Year')\n",
    "axes[1].set_ylabel('WOUNDED', fontsize = 20)\n",
    "axes[1].set_title('Total Wounded per Year', fontsize = 20)\n",
    "axes[1].tick_params(axis='x', rotation=90)\n",
    "\n",
    "# Adjust layout to prevent overlap\n",
    "plt.tight_layout()\n",
    "\n",
    "# Show the plot\n",
    "plt.show()"
   ]
  },
  {
   "cell_type": "code",
   "execution_count": null,
   "id": "a63e47da-b87f-4055-a926-6c7f51e39f28",
   "metadata": {},
   "outputs": [
    {
     "data": {
      "image/png": "[encoded data removed]",
      "text/plain": [
       "<Figure size 1440x432 with 1 Axes>"
      ]
     },
     "metadata": {},
     "output_type": "display_data"
    }
   ],
   "source": [
    "year = data[\"date\"].dt.year\n",
    "top_countries = year.value_counts().head(30).sort_values(ascending=False)\n",
    "\n",
    "# Create a bar plot\n",
    "plt.figure(figsize=(20, 6))\n",
    "top_countries.plot(kind='bar', color='red', edgecolor='black')\n",
    "\n",
    "# Customize the plot\n",
    "plt.title('The Rates of Attack per Year', fontsize=20)\n",
    "plt.xlabel('Dates', fontsize=20)\n",
    "plt.ylabel('Number Attacks', fontsize=15)\n",
    "plt.xticks(rotation=45, ha='right')\n",
    "\n",
    "# Show the plot\n",
    "plt.show()"
   ]
  },
  {
   "cell_type": "code",
   "execution_count": null,
   "id": "a2dfbb3c-04f6-4e15-80a0-aeeb27781b4e",
   "metadata": {},
   "outputs": [],
   "source": []
  },
  {
   "cell_type": "code",
   "execution_count": null,
   "id": "4878e1ab-78b4-4fb7-b2f7-561113ee23a5",
   "metadata": {},
   "outputs": [],
   "source": []
  }
 ],
 "metadata": {
  "kernelspec": {
   "display_name": "Python 3 (ipykernel)",
   "language": "python",
   "name": "python3"
  },
  "language_info": {
   "codemirror_mode": {
    "name": "ipython",
    "version": 3
   },
   "file_extension": ".py",
   "mimetype": "text/x-python",
   "name": "python",
   "nbconvert_exporter": "python",
   "pygments_lexer": "ipython3",
   "version": "3.10.13"
  }
 },
 "nbformat": 4,
 "nbformat_minor": 5
}
